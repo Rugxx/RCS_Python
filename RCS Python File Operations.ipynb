{
 "cells": [
  {
   "cell_type": "markdown",
   "metadata": {},
   "source": [
    "## RCS Python File Operations 2"
   ]
  },
  {
   "cell_type": "code",
   "execution_count": 5,
   "metadata": {},
   "outputs": [
    {
     "name": "stdout",
     "output_type": "stream",
     "text": [
      "C:\\Users\\Val\\Documents\\Github\\RCS_Python\n"
     ]
    }
   ],
   "source": [
    "import os\n",
    "print(os.getcwd()) # cwd - current working directory"
   ]
  },
  {
   "cell_type": "code",
   "execution_count": 7,
   "metadata": {},
   "outputs": [
    {
     "data": {
      "text/plain": [
       "['.git',\n",
       " '.ipynb_checkpoints',\n",
       " 'Git_Workflow.md',\n",
       " 'RCS Flow Control.ipynb',\n",
       " 'RCS Python Classes.ipynb',\n",
       " 'RCS Python File IO.ipynb',\n",
       " 'RCS Python File Operations.ipynb',\n",
       " 'RCS Python Functions.ipynb',\n",
       " 'RCS Variables and Data Types.ipynb',\n",
       " 'README.md']"
      ]
     },
     "execution_count": 7,
     "metadata": {},
     "output_type": "execute_result"
    }
   ],
   "source": [
    "os.listdir()"
   ]
  },
  {
   "cell_type": "code",
   "execution_count": 12,
   "metadata": {},
   "outputs": [
    {
     "data": {
      "text/plain": [
       "'c:\\\\'"
      ]
     },
     "execution_count": 12,
     "metadata": {},
     "output_type": "execute_result"
    }
   ],
   "source": [
    "os.chdir(\"c:\\\\\")\n",
    "os.getcwd()\n"
   ]
  },
  {
   "cell_type": "code",
   "execution_count": 14,
   "metadata": {},
   "outputs": [
    {
     "data": {
      "text/plain": [
       "'C:\\\\Users\\\\Val\\\\Documents\\\\Github\\\\RCS_Python'"
      ]
     },
     "execution_count": 14,
     "metadata": {},
     "output_type": "execute_result"
    }
   ],
   "source": [
    "os.chdir(\"C:\\\\Users\\\\Val\\\\Documents\\\\Github\\\\RCS_Python\")\n",
    "os.getcwd()"
   ]
  },
  {
   "cell_type": "markdown",
   "metadata": {},
   "source": [
    "\tThe os.path.join() function constructs a pathname out of one or more partial pathnames\n",
    "   **Don’t fuss with slashes; always use os.path.join() and let Python do the right thing.**"
   ]
  },
  {
   "cell_type": "code",
   "execution_count": 15,
   "metadata": {},
   "outputs": [
    {
     "data": {
      "text/plain": [
       "'C:\\\\Users\\\\Val\\\\Documents\\\\Github\\\\RCS_Python\\\\README.md'"
      ]
     },
     "execution_count": 15,
     "metadata": {},
     "output_type": "execute_result"
    }
   ],
   "source": [
    "os.path.join(\"C:\\\\Users\\\\Val\\\\Documents\\\\Github\\\\RCS_Python\",\"README.md\")"
   ]
  },
  {
   "cell_type": "code",
   "execution_count": 16,
   "metadata": {},
   "outputs": [
    {
     "name": "stdout",
     "output_type": "stream",
     "text": [
      "C:\\Users\\Val\\Documents\\Github\\RCS_Python\\README.md\n"
     ]
    }
   ],
   "source": [
    "print(os.path.join(os.path.expanduser('~'), 'Documents', 'Github', 'RCS_Python', 'README.md')) "
   ]
  },
  {
   "cell_type": "code",
   "execution_count": 18,
   "metadata": {},
   "outputs": [
    {
     "data": {
      "text/plain": [
       "'C:\\\\Users\\\\Val\\\\Documents\\\\Github'"
      ]
     },
     "execution_count": 18,
     "metadata": {},
     "output_type": "execute_result"
    }
   ],
   "source": [
    "newpath=os.path.join(os.path.expanduser('~'), 'Documents', 'Github')\n",
    "newpath"
   ]
  },
  {
   "cell_type": "code",
   "execution_count": 19,
   "metadata": {},
   "outputs": [
    {
     "name": "stdout",
     "output_type": "stream",
     "text": [
      "C:\\Users\\Val\\Documents\\Github\n"
     ]
    }
   ],
   "source": [
    "print(newpath) ## Aha pretty print!!"
   ]
  },
  {
   "cell_type": "code",
   "execution_count": 21,
   "metadata": {},
   "outputs": [
    {
     "data": {
      "text/plain": [
       "'C:\\\\Users\\\\Val\\\\Documents\\\\Github\\\\RCS_Python'"
      ]
     },
     "execution_count": 21,
     "metadata": {},
     "output_type": "execute_result"
    }
   ],
   "source": [
    "mypath=os.getcwd()\n",
    "mypath"
   ]
  },
  {
   "cell_type": "code",
   "execution_count": 22,
   "metadata": {},
   "outputs": [
    {
     "data": {
      "text/plain": [
       "('C:\\\\Users\\\\Val\\\\Documents\\\\Github', 'RCS_Python')"
      ]
     },
     "execution_count": 22,
     "metadata": {},
     "output_type": "execute_result"
    }
   ],
   "source": [
    "mysplit = os.path.split(mypath)\n",
    "mysplit"
   ]
  },
  {
   "cell_type": "code",
   "execution_count": 25,
   "metadata": {},
   "outputs": [
    {
     "name": "stdout",
     "output_type": "stream",
     "text": [
      "C:\\Users\\Val\\Documents\\Github : RCS_Python\n"
     ]
    }
   ],
   "source": [
    "mydir, myfname = os.path.split(mypath)\n",
    "print(mydir,\":\",myfname)"
   ]
  },
  {
   "cell_type": "markdown",
   "metadata": {},
   "source": [
    "The glob module finds all the pathnames matching a specified pattern according to the rules used by the Unix shell, although results are returned in arbitrary order."
   ]
  },
  {
   "cell_type": "code",
   "execution_count": 28,
   "metadata": {},
   "outputs": [
    {
     "data": {
      "text/plain": [
       "['RCS Flow Control.ipynb',\n",
       " 'RCS Python Classes.ipynb',\n",
       " 'RCS Python File IO.ipynb',\n",
       " 'RCS Python File Operations.ipynb',\n",
       " 'RCS Python Functions.ipynb',\n",
       " 'RCS Variables and Data Types.ipynb']"
      ]
     },
     "execution_count": 28,
     "metadata": {},
     "output_type": "execute_result"
    }
   ],
   "source": [
    "import glob\n",
    "ifiles=glob.glob('*.ipynb')\n",
    "ifiles"
   ]
  },
  {
   "cell_type": "code",
   "execution_count": 35,
   "metadata": {},
   "outputs": [
    {
     "name": "stdout",
     "output_type": "stream",
     "text": [
      "<class 'os.stat_result'> os.stat_result(st_mode=33206, st_ino=5348024557889930, st_dev=609827677, st_nlink=1, st_uid=0, st_gid=0, st_size=207, st_atime=1526155447, st_mtime=1526155447, st_ctime=1526155447)\n"
     ]
    }
   ],
   "source": [
    "meta = os.stat('README.md')\n",
    "print(type(meta),meta) # os.stat returns a class containing file meta information"
   ]
  },
  {
   "cell_type": "code",
   "execution_count": 33,
   "metadata": {},
   "outputs": [
    {
     "data": {
      "text/plain": [
       "time.struct_time(tm_year=2018, tm_mon=5, tm_mday=12, tm_hour=23, tm_min=4, tm_sec=7, tm_wday=5, tm_yday=132, tm_isdst=1)"
      ]
     },
     "execution_count": 33,
     "metadata": {},
     "output_type": "execute_result"
    }
   ],
   "source": [
    "import time\n",
    "time.localtime(meta.st_mtime) #mtime last modified tiem"
   ]
  }
 ],
 "metadata": {
  "kernelspec": {
   "display_name": "Python 3",
   "language": "python",
   "name": "python3"
  },
  "language_info": {
   "codemirror_mode": {
    "name": "ipython",
    "version": 3
   },
   "file_extension": ".py",
   "mimetype": "text/x-python",
   "name": "python",
   "nbconvert_exporter": "python",
   "pygments_lexer": "ipython3",
   "version": "3.6.4"
  }
 },
 "nbformat": 4,
 "nbformat_minor": 2
}
