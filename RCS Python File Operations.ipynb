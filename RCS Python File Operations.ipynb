{
 "cells": [
  {
   "cell_type": "markdown",
   "metadata": {},
   "source": [
    "## RCS Python File Operations 2"
   ]
  },
  {
   "cell_type": "code",
   "execution_count": 5,
   "metadata": {},
   "outputs": [
    {
     "name": "stdout",
     "output_type": "stream",
     "text": [
      "C:\\Users\\Val\\Documents\\Github\\RCS_Python\n"
     ]
    }
   ],
   "source": [
    "import os\n",
    "print(os.getcwd()) # cwd - current working directory"
   ]
  },
  {
   "cell_type": "code",
   "execution_count": 7,
   "metadata": {},
   "outputs": [
    {
     "data": {
      "text/plain": [
       "['.git',\n",
       " '.ipynb_checkpoints',\n",
       " 'Git_Workflow.md',\n",
       " 'RCS Flow Control.ipynb',\n",
       " 'RCS Python Classes.ipynb',\n",
       " 'RCS Python File IO.ipynb',\n",
       " 'RCS Python File Operations.ipynb',\n",
       " 'RCS Python Functions.ipynb',\n",
       " 'RCS Variables and Data Types.ipynb',\n",
       " 'README.md']"
      ]
     },
     "execution_count": 7,
     "metadata": {},
     "output_type": "execute_result"
    }
   ],
   "source": [
    "os.listdir()"
   ]
  },
  {
   "cell_type": "code",
   "execution_count": 12,
   "metadata": {},
   "outputs": [
    {
     "data": {
      "text/plain": [
       "'c:\\\\'"
      ]
     },
     "execution_count": 12,
     "metadata": {},
     "output_type": "execute_result"
    }
   ],
   "source": [
    "os.chdir(\"c:\\\\\")\n",
    "os.getcwd()\n"
   ]
  },
  {
   "cell_type": "code",
   "execution_count": 14,
   "metadata": {},
   "outputs": [
    {
     "data": {
      "text/plain": [
       "'C:\\\\Users\\\\Val\\\\Documents\\\\Github\\\\RCS_Python'"
      ]
     },
     "execution_count": 14,
     "metadata": {},
     "output_type": "execute_result"
    }
   ],
   "source": [
    "os.chdir(\"C:\\\\Users\\\\Val\\\\Documents\\\\Github\\\\RCS_Python\")\n",
    "os.getcwd()"
   ]
  },
  {
   "cell_type": "markdown",
   "metadata": {},
   "source": [
    "\tThe os.path.join() function constructs a pathname out of one or more partial pathnames\n",
    "   **Don’t fuss with slashes; always use os.path.join() and let Python do the right thing.**"
   ]
  },
  {
   "cell_type": "code",
   "execution_count": 15,
   "metadata": {},
   "outputs": [
    {
     "data": {
      "text/plain": [
       "'C:\\\\Users\\\\Val\\\\Documents\\\\Github\\\\RCS_Python\\\\README.md'"
      ]
     },
     "execution_count": 15,
     "metadata": {},
     "output_type": "execute_result"
    }
   ],
   "source": [
    "os.path.join(\"C:\\\\Users\\\\Val\\\\Documents\\\\Github\\\\RCS_Python\",\"README.md\")"
   ]
  },
  {
   "cell_type": "code",
   "execution_count": 16,
   "metadata": {},
   "outputs": [
    {
     "name": "stdout",
     "output_type": "stream",
     "text": [
      "C:\\Users\\Val\\Documents\\Github\\RCS_Python\\README.md\n"
     ]
    }
   ],
   "source": [
    "print(os.path.join(os.path.expanduser('~'), 'Documents', 'Github', 'RCS_Python', 'README.md')) "
   ]
  },
  {
   "cell_type": "code",
   "execution_count": 18,
   "metadata": {},
   "outputs": [
    {
     "data": {
      "text/plain": [
       "'C:\\\\Users\\\\Val\\\\Documents\\\\Github'"
      ]
     },
     "execution_count": 18,
     "metadata": {},
     "output_type": "execute_result"
    }
   ],
   "source": [
    "newpath=os.path.join(os.path.expanduser('~'), 'Documents', 'Github')\n",
    "newpath"
   ]
  },
  {
   "cell_type": "code",
   "execution_count": 19,
   "metadata": {},
   "outputs": [
    {
     "name": "stdout",
     "output_type": "stream",
     "text": [
      "C:\\Users\\Val\\Documents\\Github\n"
     ]
    }
   ],
   "source": [
    "print(newpath) ## Aha pretty print!!"
   ]
  },
  {
   "cell_type": "code",
   "execution_count": 21,
   "metadata": {},
   "outputs": [
    {
     "data": {
      "text/plain": [
       "'C:\\\\Users\\\\Val\\\\Documents\\\\Github\\\\RCS_Python'"
      ]
     },
     "execution_count": 21,
     "metadata": {},
     "output_type": "execute_result"
    }
   ],
   "source": [
    "mypath=os.getcwd()\n",
    "mypath"
   ]
  },
  {
   "cell_type": "code",
   "execution_count": 22,
   "metadata": {},
   "outputs": [
    {
     "data": {
      "text/plain": [
       "('C:\\\\Users\\\\Val\\\\Documents\\\\Github', 'RCS_Python')"
      ]
     },
     "execution_count": 22,
     "metadata": {},
     "output_type": "execute_result"
    }
   ],
   "source": [
    "mysplit = os.path.split(mypath)\n",
    "mysplit"
   ]
  },
  {
   "cell_type": "code",
   "execution_count": 25,
   "metadata": {},
   "outputs": [
    {
     "name": "stdout",
     "output_type": "stream",
     "text": [
      "C:\\Users\\Val\\Documents\\Github : RCS_Python\n"
     ]
    }
   ],
   "source": [
    "mydir, myfname = os.path.split(mypath)\n",
    "print(mydir,\":\",myfname)"
   ]
  },
  {
   "cell_type": "markdown",
   "metadata": {},
   "source": [
    "The glob module finds all the pathnames matching a specified pattern according to the rules used by the Unix shell, although results are returned in arbitrary order."
   ]
  },
  {
   "cell_type": "code",
   "execution_count": 1,
   "metadata": {},
   "outputs": [
    {
     "data": {
      "text/plain": [
       "['RCS Flow Control.ipynb',\n",
       " 'RCS Python Challenge.ipynb',\n",
       " 'RCS Python Classes.ipynb',\n",
       " 'RCS Python File IO.ipynb',\n",
       " 'RCS Python File Operations.ipynb',\n",
       " 'RCS Python Functions.ipynb',\n",
       " 'RCS Python Importing Modules.ipynb',\n",
       " 'RCS Python Math NumPy SymPy.ipynb',\n",
       " 'RCS Python Modules.ipynb',\n",
       " 'RCS Variables and Data Types.ipynb']"
      ]
     },
     "execution_count": 1,
     "metadata": {},
     "output_type": "execute_result"
    }
   ],
   "source": [
    "import glob\n",
    "ifiles=glob.glob('*.ipynb')\n",
    "ifiles"
   ]
  },
  {
   "cell_type": "code",
   "execution_count": 2,
   "metadata": {},
   "outputs": [
    {
     "data": {
      "text/plain": [
       "['RCS Python Challenge.ipynb',\n",
       " 'RCS Python Classes.ipynb',\n",
       " 'RCS Python File IO.ipynb',\n",
       " 'RCS Python File Operations.ipynb',\n",
       " 'RCS Python Functions.ipynb',\n",
       " 'RCS Python Importing Modules.ipynb',\n",
       " 'RCS Python Math NumPy SymPy.ipynb',\n",
       " 'RCS Python Modules.ipynb']"
      ]
     },
     "execution_count": 2,
     "metadata": {},
     "output_type": "execute_result"
    }
   ],
   "source": [
    "ipyth=glob.glob('*Python*.ipynb')\n",
    "ipyth"
   ]
  },
  {
   "cell_type": "code",
   "execution_count": 5,
   "metadata": {},
   "outputs": [
    {
     "data": {
      "text/plain": [
       "[]"
      ]
     },
     "execution_count": 5,
     "metadata": {},
     "output_type": "execute_result"
    }
   ],
   "source": [
    "ifile2=glob.glob('*File*.*,*.md')\n",
    "ifile2"
   ]
  },
  {
   "cell_type": "markdown",
   "metadata": {},
   "source": [
    "### New in version 3.4.\n",
    "\n",
    "For example, consider a directory containing the following files: 1.gif, 2.txt, card.gif and a subdirectory sub which contains only the file 3.txt. glob() will produce the following results. Notice how any leading components of the path are preserved."
   ]
  },
  {
   "cell_type": "code",
   "execution_count": 10,
   "metadata": {},
   "outputs": [
    {
     "data": {
      "text/plain": [
       "[]"
      ]
     },
     "execution_count": 10,
     "metadata": {},
     "output_type": "execute_result"
    }
   ],
   "source": [
    "glob.glob('./[0-9].*')"
   ]
  },
  {
   "cell_type": "code",
   "execution_count": 18,
   "metadata": {},
   "outputs": [
    {
     "name": "stderr",
     "output_type": "stream",
     "text": [
      "A subdirectory or file Text already exists.\n",
      "Error occurred while processing: Text.\n"
     ]
    }
   ],
   "source": [
    "! mkdir Text # ! is Jupyter command for running OS commands b"
   ]
  },
  {
   "cell_type": "markdown",
   "metadata": {},
   "source": [
    "# File Operations directly from Python\n",
    "\n",
    "https://docs.python.org/3/library/subprocess.html#module-subprocess\n",
    "\n",
    "subprocess.run(args, *, stdin=None, input=None, stdout=None, stderr=None, shell=False, cwd=None, timeout=None, check=False, encoding=None, errors=None)"
   ]
  },
  {
   "cell_type": "code",
   "execution_count": 26,
   "metadata": {},
   "outputs": [
    {
     "name": "stdout",
     "output_type": "stream",
     "text": [
      "CompletedProcess(args='dir', returncode=0, stdout=b' Volume in drive C is CODE\\r\\n Volume Serial Number is AC66-C9D3\\r\\n\\r\\n Directory of C:\\\\Users\\\\vdell\\\\Documents\\\\Github\\\\RCS_Python\\r\\n\\r\\n05/14/2018  10:23 AM    <DIR>          .\\r\\n05/14/2018  10:23 AM    <DIR>          ..\\r\\n05/14/2018  10:15 AM    <DIR>          !\\r\\n05/14/2018  10:15 AM    <DIR>          #\\r\\n05/14/2018  10:05 AM    <DIR>          .ipynb_checkpoints\\r\\n05/14/2018  10:15 AM    <DIR>          b\\r\\n05/14/2018  10:15 AM    <DIR>          command\\r\\n05/14/2018  10:15 AM    <DIR>          commands\\r\\n05/14/2018  10:15 AM    <DIR>          for\\r\\n05/10/2018  10:05 AM               411 Git_Workflow.md\\r\\n05/14/2018  10:15 AM    <DIR>          is\\r\\n05/14/2018  10:15 AM    <DIR>          Jupyter\\r\\n05/11/2018  10:38 AM                67 mytext.txt\\r\\n05/11/2018  11:39 AM               135 numbers.txt\\r\\n05/14/2018  10:15 AM    <DIR>          OS\\r\\n05/10/2018  10:05 AM            17,905 RCS Flow Control.ipynb\\r\\n05/11/2018  02:16 PM             4,623 RCS Python Challenge.ipynb\\r\\n05/14/2018  09:55 AM            36,091 RCS Python Classes.ipynb\\r\\n05/14/2018  09:55 AM            12,185 RCS Python File IO.ipynb\\r\\n05/14/2018  10:23 AM            14,277 RCS Python File Operations.ipynb\\r\\n05/11/2018  10:02 AM            14,087 RCS Python Functions.ipynb\\r\\n05/14/2018  09:55 AM             2,315 RCS Python Importing Modules.ipynb\\r\\n05/14/2018  09:55 AM            16,686 RCS Python Math NumPy SymPy.ipynb\\r\\n05/14/2018  09:55 AM            12,806 RCS Python Modules.ipynb\\r\\n05/10/2018  10:05 AM            40,431 RCS Variables and Data Types.ipynb\\r\\n05/10/2018  10:05 AM               207 README.md\\r\\n05/14/2018  10:15 AM    <DIR>          running\\r\\n05/14/2018  10:14 AM    <DIR>          Text\\r\\n              14 File(s)        172,226 bytes\\r\\n              14 Dir(s)  74,745,311,232 bytes free\\r\\n')\n"
     ]
    }
   ],
   "source": [
    "import subprocess\n",
    "print(subprocess.run(\"dir\", shell=True, stdout=subprocess.PIPE)) ## Without pipe we will get no output"
   ]
  },
  {
   "cell_type": "code",
   "execution_count": 28,
   "metadata": {},
   "outputs": [
    {
     "data": {
      "text/plain": [
       "CompletedProcess(args=['mkdir', 'testdir'], returncode=0, stdout=b'')"
      ]
     },
     "execution_count": 28,
     "metadata": {},
     "output_type": "execute_result"
    }
   ],
   "source": [
    "subprocess.run([\"mkdir\", \"testdir\"], shell=True, stdout=subprocess.PIPE)"
   ]
  },
  {
   "cell_type": "code",
   "execution_count": null,
   "metadata": {},
   "outputs": [],
   "source": [
    "import sys\n"
   ]
  },
  {
   "cell_type": "code",
   "execution_count": 13,
   "metadata": {},
   "outputs": [
    {
     "name": "stdout",
     "output_type": "stream",
     "text": [
      " Volume in drive C is CODE\n",
      " Volume Serial Number is AC66-C9D3\n",
      "\n",
      " Directory of C:\\Users\\vdell\\Documents\\Github\\RCS_Python\n",
      "\n",
      "05/14/2018  10:13 AM    <DIR>          .\n",
      "05/14/2018  10:13 AM    <DIR>          ..\n",
      "05/14/2018  10:05 AM    <DIR>          .ipynb_checkpoints\n",
      "05/10/2018  10:05 AM               411 Git_Workflow.md\n",
      "05/11/2018  10:38 AM                67 mytext.txt\n",
      "05/11/2018  11:39 AM               135 numbers.txt\n",
      "05/10/2018  10:05 AM            17,905 RCS Flow Control.ipynb\n",
      "05/11/2018  02:16 PM             4,623 RCS Python Challenge.ipynb\n",
      "05/14/2018  09:55 AM            36,091 RCS Python Classes.ipynb\n",
      "05/14/2018  09:55 AM            12,185 RCS Python File IO.ipynb\n",
      "05/14/2018  10:11 AM            10,112 RCS Python File Operations.ipynb\n",
      "05/11/2018  10:02 AM            14,087 RCS Python Functions.ipynb\n",
      "05/14/2018  09:55 AM             2,315 RCS Python Importing Modules.ipynb\n",
      "05/14/2018  09:55 AM            16,686 RCS Python Math NumPy SymPy.ipynb\n",
      "05/14/2018  09:55 AM            12,806 RCS Python Modules.ipynb\n",
      "05/10/2018  10:05 AM            40,431 RCS Variables and Data Types.ipynb\n",
      "05/10/2018  10:05 AM               207 README.md\n",
      "05/14/2018  10:13 AM    <DIR>          Text\n",
      "              14 File(s)        168,061 bytes\n",
      "               4 Dir(s)  74,738,491,392 bytes free\n"
     ]
    }
   ],
   "source": [
    "! dir"
   ]
  },
  {
   "cell_type": "code",
   "execution_count": 14,
   "metadata": {},
   "outputs": [
    {
     "name": "stdout",
     "output_type": "stream",
     "text": [
      "Writing ./Text/Test.txt\n"
     ]
    }
   ],
   "source": [
    "%%writefile ./Text/Test.txt\n",
    "Just a simple text file\n",
    "Nothing special"
   ]
  },
  {
   "cell_type": "code",
   "execution_count": 15,
   "metadata": {},
   "outputs": [
    {
     "name": "stdout",
     "output_type": "stream",
     "text": [
      " Volume in drive C is CODE\n",
      " Volume Serial Number is AC66-C9D3\n",
      "\n",
      " Directory of C:\\Users\\vdell\\Documents\\Github\\RCS_Python\\Text\n",
      "\n",
      "05/14/2018  10:14 AM    <DIR>          .\n",
      "05/14/2018  10:14 AM    <DIR>          ..\n",
      "05/14/2018  10:14 AM                40 Test.txt\n",
      "               1 File(s)             40 bytes\n",
      "               2 Dir(s)  74,738,360,320 bytes free\n"
     ]
    }
   ],
   "source": [
    "! dir Text"
   ]
  },
  {
   "cell_type": "code",
   "execution_count": 17,
   "metadata": {},
   "outputs": [
    {
     "data": {
      "text/plain": [
       "['mytext.txt', 'numbers.txt', 'Text\\\\Test.txt']"
      ]
     },
     "execution_count": 17,
     "metadata": {},
     "output_type": "execute_result"
    }
   ],
   "source": [
    "glob.glob('**/*.txt', recursive=True) #We should also get subdirectory name"
   ]
  },
  {
   "cell_type": "code",
   "execution_count": 7,
   "metadata": {},
   "outputs": [
    {
     "data": {
      "text/plain": [
       "['.\\\\Git_Workflow.md', '.\\\\README.md']"
      ]
     },
     "execution_count": 7,
     "metadata": {},
     "output_type": "execute_result"
    }
   ],
   "source": [
    "glob.glob('./*.md')"
   ]
  },
  {
   "cell_type": "code",
   "execution_count": 9,
   "metadata": {},
   "outputs": [
    {
     "data": {
      "text/plain": [
       "[]"
      ]
     },
     "execution_count": 9,
     "metadata": {},
     "output_type": "execute_result"
    }
   ],
   "source": [
    "glob.glob('./?.md') # requires a single char only so we wont get a match for longer file names"
   ]
  },
  {
   "cell_type": "code",
   "execution_count": 35,
   "metadata": {},
   "outputs": [
    {
     "name": "stdout",
     "output_type": "stream",
     "text": [
      "<class 'os.stat_result'> os.stat_result(st_mode=33206, st_ino=5348024557889930, st_dev=609827677, st_nlink=1, st_uid=0, st_gid=0, st_size=207, st_atime=1526155447, st_mtime=1526155447, st_ctime=1526155447)\n"
     ]
    }
   ],
   "source": [
    "meta = os.stat('README.md')\n",
    "print(type(meta),meta) # os.stat returns a class containing file meta information"
   ]
  },
  {
   "cell_type": "code",
   "execution_count": 33,
   "metadata": {},
   "outputs": [
    {
     "data": {
      "text/plain": [
       "time.struct_time(tm_year=2018, tm_mon=5, tm_mday=12, tm_hour=23, tm_min=4, tm_sec=7, tm_wday=5, tm_yday=132, tm_isdst=1)"
      ]
     },
     "execution_count": 33,
     "metadata": {},
     "output_type": "execute_result"
    }
   ],
   "source": [
    "import time\n",
    "time.localtime(meta.st_mtime) #mtime last modified tiem"
   ]
  }
 ],
 "metadata": {
  "kernelspec": {
   "display_name": "Python 3",
   "language": "python",
   "name": "python3"
  },
  "language_info": {
   "codemirror_mode": {
    "name": "ipython",
    "version": 3
   },
   "file_extension": ".py",
   "mimetype": "text/x-python",
   "name": "python",
   "nbconvert_exporter": "python",
   "pygments_lexer": "ipython3",
   "version": "3.6.4"
  }
 },
 "nbformat": 4,
 "nbformat_minor": 2
}
