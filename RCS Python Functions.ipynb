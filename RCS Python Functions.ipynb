{
 "cells": [
  {
   "cell_type": "markdown",
   "metadata": {},
   "source": [
    "# RCS Python Functions"
   ]
  },
  {
   "cell_type": "markdown",
   "metadata": {},
   "source": [
    "## What is a function?\n",
    "\n",
    "* A function is a block of organized, reusable code that is used to perform a single, related action.\n",
    "* Single, organized, related always ? :)\n",
    "\n",
    "* casually methods == functions, technically methods are functions defined within class(more to follow) and have class context"
   ]
  },
  {
   "cell_type": "code",
   "execution_count": 1,
   "metadata": {},
   "outputs": [
    {
     "data": {
      "text/plain": [
       "10"
      ]
     },
     "execution_count": 1,
     "metadata": {},
     "output_type": "execute_result"
    }
   ],
   "source": [
    "5+5"
   ]
  },
  {
   "cell_type": "code",
   "execution_count": 4,
   "metadata": {},
   "outputs": [
    {
     "name": "stdout",
     "output_type": "stream",
     "text": [
      "25\n"
     ]
    },
    {
     "data": {
      "text/plain": [
       "15"
      ]
     },
     "execution_count": 4,
     "metadata": {},
     "output_type": "execute_result"
    }
   ],
   "source": [
    "a=15\n",
    "print(a+10)\n",
    "a"
   ]
  },
  {
   "cell_type": "code",
   "execution_count": null,
   "metadata": {},
   "outputs": [],
   "source": []
  },
  {
   "cell_type": "code",
   "execution_count": 5,
   "metadata": {},
   "outputs": [
    {
     "name": "stdout",
     "output_type": "stream",
     "text": [
      "Running My first func\n"
     ]
    }
   ],
   "source": [
    "def myFirstFunc():\n",
    "    print(\"Running My first func\")\n",
    "myFirstFunc()"
   ]
  },
  {
   "cell_type": "code",
   "execution_count": 6,
   "metadata": {},
   "outputs": [
    {
     "name": "stdout",
     "output_type": "stream",
     "text": [
      "Running My first func\n"
     ]
    }
   ],
   "source": [
    "myFirstFunc()"
   ]
  },
  {
   "cell_type": "code",
   "execution_count": 7,
   "metadata": {},
   "outputs": [
    {
     "name": "stdout",
     "output_type": "stream",
     "text": [
      "my second func\n",
      "Running My first func\n"
     ]
    }
   ],
   "source": [
    "def SecondFun():\n",
    "    print(\"my second func\")\n",
    "    myFirstFunc()\n",
    "SecondFun()"
   ]
  },
  {
   "cell_type": "code",
   "execution_count": 8,
   "metadata": {},
   "outputs": [
    {
     "name": "stdout",
     "output_type": "stream",
     "text": [
      "10\n",
      "242\n",
      "Hello Riga\n",
      "[1, 2, 7, 6, 7, 8, 9, 10, 11]\n"
     ]
    }
   ],
   "source": [
    "# Passing parameters(arguments)\n",
    "def add(a, b):\n",
    "    print(a+b)\n",
    "add(4,6)\n",
    "add(9,233)\n",
    "add(\"Hello \",\"Riga\")\n",
    "add([1,2,7],list(range(6,12)))"
   ]
  },
  {
   "cell_type": "code",
   "execution_count": 11,
   "metadata": {},
   "outputs": [
    {
     "name": "stdout",
     "output_type": "stream",
     "text": [
      "Look ma I am multiplying!\n",
      "35\n",
      "Look ma I am multiplying!\n",
      "[3, 6, 3, 6, 3, 6, 3, 6]\n",
      "Look ma I am multiplying!\n",
      "ggustggustggustggust\n"
     ]
    }
   ],
   "source": [
    "def mult(a, b):\n",
    "    '''Returns \n",
    "    multiple from first two arguments'''\n",
    "    print(\"Look ma I am multiplying!\")\n",
    "    return(a*b)\n",
    "print(mult(5,7))\n",
    "print(mult([3,6],4))\n",
    "print(mult(\"ggust\", 4))\n",
    "?mult"
   ]
  },
  {
   "cell_type": "code",
   "execution_count": 10,
   "metadata": {},
   "outputs": [
    {
     "name": "stdout",
     "output_type": "stream",
     "text": [
      "17\n"
     ]
    },
    {
     "data": {
      "text/plain": [
       "17"
      ]
     },
     "execution_count": 10,
     "metadata": {},
     "output_type": "execute_result"
    }
   ],
   "source": [
    "def sub(a, b):\n",
    "    print(a-b)\n",
    "    return(a-b)\n",
    "sub(20, 3)"
   ]
  },
  {
   "cell_type": "code",
   "execution_count": 13,
   "metadata": {},
   "outputs": [
    {
     "name": "stdout",
     "output_type": "stream",
     "text": [
      "903\n"
     ]
    },
    {
     "data": {
      "text/plain": [
       "903"
      ]
     },
     "execution_count": 13,
     "metadata": {},
     "output_type": "execute_result"
    }
   ],
   "source": [
    "def add3(a,b,c):\n",
    "    print(a+b+c)\n",
    "    return(a+b+c)\n",
    "add3(13,26,864)"
   ]
  },
  {
   "cell_type": "code",
   "execution_count": 21,
   "metadata": {},
   "outputs": [
    {
     "name": "stdout",
     "output_type": "stream",
     "text": [
      "Enter an integer please! 44\n",
      "your number is too large\n",
      "Enter an integer please! 33\n",
      "your number is too large\n",
      "Enter an integer please! 22\n",
      "your number is too large\n",
      "Enter an integer please! 11\n",
      "your number is too large\n",
      "Enter an integer please! 5\n",
      "your number is too small\n",
      "Enter an integer please! 8\n",
      "your number is too large\n",
      "Enter an integer please! 7\n",
      "YOU WON!\n",
      "secret number is 7\n"
     ]
    }
   ],
   "source": [
    "import random\n",
    "def guessnum():\n",
    "    secret = random.randrange(100)\n",
    "    #print(secret)\n",
    "    x=-1\n",
    "    while x != secret:\n",
    "        x = int(input(\"Enter an integer please! \"))\n",
    "        if x > secret:\n",
    "            print(\"your number is too large\")\n",
    "        elif x < secret:\n",
    "            print(\"your number is too small\")\n",
    "        else:\n",
    "            print(\"YOU WON!\")\n",
    "            print(f\"secret number is {secret}\")\n",
    "            break\n",
    "guessnum()\n",
    "    "
   ]
  },
  {
   "cell_type": "code",
   "execution_count": null,
   "metadata": {},
   "outputs": [],
   "source": [
    "def "
   ]
  },
  {
   "cell_type": "code",
   "execution_count": 22,
   "metadata": {},
   "outputs": [
    {
     "name": "stdout",
     "output_type": "stream",
     "text": [
      "81\n",
      "121\n"
     ]
    }
   ],
   "source": [
    "def lazypow(a, b=2):\n",
    "    '''Returns a taken to the power of b\n",
    "    b default is 2'''\n",
    "    return(a**b)\n",
    "print(lazypow(3,4))\n",
    "print(lazypow(11))"
   ]
  },
  {
   "cell_type": "code",
   "execution_count": 23,
   "metadata": {},
   "outputs": [
    {
     "name": "stdout",
     "output_type": "stream",
     "text": [
      "Look ma I am multiplying!\n",
      "144\n"
     ]
    }
   ],
   "source": [
    "#Chaining function calls\n",
    "print(lazypow(mult(2,6)))"
   ]
  },
  {
   "cell_type": "code",
   "execution_count": 24,
   "metadata": {},
   "outputs": [
    {
     "name": "stdout",
     "output_type": "stream",
     "text": [
      "(18, 2.0)\n",
      "(36, 4.0)\n",
      "(24, 1.5)\n",
      "(45, 5.0)\n"
     ]
    }
   ],
   "source": [
    "#Returning multiple values\n",
    "def multdiv(a=6,b=3):\n",
    "    '''Returns two values as a tuple!:\n",
    "    1. multiplication of arguments\n",
    "    2. a/b\n",
    "    '''\n",
    "    return(a*b, a/b)\n",
    "print(multdiv())\n",
    "print(multdiv(12))\n",
    "print(multdiv(b=4))\n",
    "print(multdiv(15,3))\n",
    "# we could just return two values separately"
   ]
  },
  {
   "cell_type": "code",
   "execution_count": 27,
   "metadata": {},
   "outputs": [
    {
     "name": "stdout",
     "output_type": "stream",
     "text": [
      "1\n",
      "2\n",
      "Fizz\n",
      "4\n",
      "Buzz\n",
      "Fizz\n",
      "7\n",
      "8\n",
      "Fizz\n",
      "Buzz\n",
      "11\n",
      "Fizz\n",
      "13\n",
      "14\n",
      "FizzBuzz\n",
      "16\n",
      "17\n",
      "Fizz\n",
      "19\n",
      "Buzz\n",
      "Fizz\n",
      "22\n",
      "23\n",
      "Fizz\n",
      "Buzz\n",
      "26\n",
      "Fizz\n",
      "28\n",
      "29\n",
      "FizzBuzz\n",
      "31\n",
      "32\n",
      "Fizz\n",
      "34\n",
      "Buzz\n",
      "Fizz\n",
      "37\n",
      "38\n",
      "Fizz\n",
      "Buzz\n",
      "41\n",
      "Fizz\n",
      "43\n",
      "44\n",
      "FizzBuzz\n",
      "46\n",
      "47\n",
      "Fizz\n",
      "49\n",
      "Buzz\n",
      "Fizz\n",
      "52\n",
      "53\n",
      "Fizz\n",
      "Buzz\n",
      "56\n",
      "Fizz\n",
      "58\n",
      "59\n",
      "FizzBuzz\n",
      "61\n",
      "62\n",
      "Fizz\n",
      "64\n",
      "Buzz\n",
      "Fizz\n",
      "67\n",
      "68\n",
      "Fizz\n",
      "Buzz\n",
      "71\n",
      "Fizz\n",
      "73\n",
      "74\n",
      "FizzBuzz\n",
      "76\n",
      "77\n",
      "Fizz\n",
      "79\n",
      "Buzz\n",
      "Fizz\n",
      "82\n",
      "83\n",
      "Fizz\n",
      "Buzz\n",
      "86\n",
      "Fizz\n",
      "88\n",
      "89\n",
      "FizzBuzz\n",
      "91\n",
      "92\n",
      "Fizz\n",
      "94\n",
      "Buzz\n",
      "Fizz\n",
      "97\n",
      "98\n",
      "Fizz\n",
      "Buzz\n"
     ]
    }
   ],
   "source": [
    "def fizzbuzz(a,b,beg=1,end=100):\n",
    "    for i in range(beg,end+1):\n",
    "        if i % a == 0 and i % b == 0:\n",
    "            print(\"FizzBuzz\")\n",
    "        elif i % a == 0:\n",
    "            print(\"Fizz\")\n",
    "        elif i % b == 0:\n",
    "            print(\"Buzz\")\n",
    "        else:\n",
    "            print(i)\n",
    "fizzbuzz(3,5)"
   ]
  },
  {
   "cell_type": "code",
   "execution_count": 33,
   "metadata": {},
   "outputs": [
    {
     "name": "stdout",
     "output_type": "stream",
     "text": [
      "[1, 2, 'Fizz', 4, 'Buzz', 'Fizz', 7, 8, 'Fizz', 'Buzz', 11, 'Fizz', 13, 14, 'FizzBuzz', 16, 17, 'Fizz', 19, 'Buzz', 'Fizz', 22, 23, 'Fizz', 'Buzz', 26, 'Fizz', 28, 29, 'FizzBuzz', 31, 32, 'Fizz', 34, 'Buzz', 'Fizz', 37, 38, 'Fizz', 'Buzz', 41, 'Fizz', 43, 44, 'FizzBuzz', 46, 47, 'Fizz', 49, 'Buzz', 'Fizz', 52, 53, 'Fizz', 'Buzz', 56, 'Fizz', 58, 59, 'FizzBuzz', 61, 62, 'Fizz', 64, 'Buzz', 'Fizz', 67, 68, 'Fizz', 'Buzz', 71, 'Fizz', 73, 74, 'FizzBuzz', 76, 77, 'Fizz', 79, 'Buzz', 'Fizz', 82, 83, 'Fizz', 'Buzz', 86, 'Fizz', 88, 89, 'FizzBuzz', 91, 92, 'Fizz', 94, 'Buzz', 'Fizz', 97, 98, 'Fizz']\n"
     ]
    }
   ],
   "source": [
    "def lazybuzz():\n",
    "    print([\"Fizz\"*(x%3 == 0)+\"Buzz\"*(x%5 == 0) or x for x in range(1,100)])\n",
    "lazybuzz()"
   ]
  },
  {
   "cell_type": "markdown",
   "metadata": {},
   "source": [
    "# Side effects\n",
    "* Ideal function has none, but not always possible(input/output, globals)"
   ]
  },
  {
   "cell_type": "markdown",
   "metadata": {},
   "source": [
    "## Jupyter magic\n",
    "* *%%HTML* lets you render cell as HTML\n",
    "* *%%time* times your cell operation, *%time* times your single line run time\n",
    "* *%%timeit* runs your cell multiple time and gives you average\n",
    "\n",
    "### Magic docs: http://ipython.readthedocs.io/en/stable/interactive/magics.html"
   ]
  },
  {
   "cell_type": "code",
   "execution_count": null,
   "metadata": {},
   "outputs": [],
   "source": [
    "%%time\n",
    "import time #this time library has nothing to do with %%time Jupyter command\n",
    "def hello():\n",
    "    print(\"HW\")\n",
    "    time.sleep(.100)\n",
    "    print(\"Awake\")\n",
    "    \n",
    "hello()\n",
    "hello()"
   ]
  },
  {
   "cell_type": "code",
   "execution_count": null,
   "metadata": {},
   "outputs": [],
   "source": [
    "##Built-in Functions\t\t\n",
    "abs()   dict()\thelp()\tmin()\tsetattr()\n",
    "all()\tdir()\thex()\tnext()\tslice()\n",
    "any()\tdivmod()\tid()\tobject()\tsorted()\n",
    "ascii()\tenumerate()\tinput()\toct()\tstaticmethod()\n",
    "bin()\teval()\tint()\topen()\tstr()\n",
    "bool()\texec()\tisinstance()\tord()\tsum()\n",
    "bytearray()\tfilter()\tissubclass()\tpow()\tsuper()\n",
    "bytes()\tfloat()\titer()\tprint()\ttuple()\n",
    "callable()\tformat()\tlen()\tproperty()\ttype()\n",
    "chr()\tfrozenset()\tlist()\trange()\tvars()\n",
    "classmethod()\tgetattr()\tlocals()\trepr()\tzip()\n",
    "compile()\tglobals()\tmap()\treversed()\t__import__()\n",
    "complex()\thasattr()\tmax()\tround()\t \n",
    "delattr()\thash()\tmemoryview()\tset()"
   ]
  },
  {
   "cell_type": "markdown",
   "metadata": {},
   "source": [
    "### More info on builtin functtions: https://docs.python.org/3/library/functions.html"
   ]
  }
 ],
 "metadata": {
  "kernelspec": {
   "display_name": "Python 3",
   "language": "python",
   "name": "python3"
  },
  "language_info": {
   "codemirror_mode": {
    "name": "ipython",
    "version": 3
   },
   "file_extension": ".py",
   "mimetype": "text/x-python",
   "name": "python",
   "nbconvert_exporter": "python",
   "pygments_lexer": "ipython3",
   "version": "3.6.4"
  }
 },
 "nbformat": 4,
 "nbformat_minor": 2
}
