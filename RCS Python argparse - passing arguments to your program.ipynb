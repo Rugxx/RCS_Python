{
 "cells": [
  {
   "cell_type": "markdown",
   "metadata": {},
   "source": [
    "## RCS Python argparse - passing arguments to your program"
   ]
  },
  {
   "cell_type": "code",
   "execution_count": 105,
   "metadata": {},
   "outputs": [],
   "source": [
    " # old way - getopt() and optparse\n",
    "    # getopt (an equivalent for getopt() from the C language) and the deprecated optparse.\n",
    "   #  Note also that argparse is based on optparse, and therefore very similar in terms of usage.\n",
    "## From official tutorial at: https://docs.python.org/3/howto/argparse.html"
   ]
  },
  {
   "cell_type": "code",
   "execution_count": 3,
   "metadata": {},
   "outputs": [
    {
     "name": "stderr",
     "output_type": "stream",
     "text": [
      "'ls' is not recognized as an internal or external command,\n",
      "operable program or batch file.\n"
     ]
    }
   ],
   "source": [
    "# for Linux / MacOS\n",
    "! ls\n",
    "\n",
    "# dir on windows"
   ]
  },
  {
   "cell_type": "code",
   "execution_count": 2,
   "metadata": {},
   "outputs": [
    {
     "name": "stdout",
     "output_type": "stream",
     "text": [
      " Volume in drive C is CODE\n",
      " Volume Serial Number is AC66-C9D3\n",
      "\n",
      " Directory of C:\\Users\\vdell\\Documents\\Github\\RCS_Python\n",
      "\n"
     ]
    },
    {
     "name": "stderr",
     "output_type": "stream",
     "text": [
      "File Not Found\n"
     ]
    }
   ],
   "source": [
    "! ls\n",
    "# ! dir pypy"
   ]
  },
  {
   "cell_type": "code",
   "execution_count": null,
   "metadata": {},
   "outputs": [],
   "source": [
    "! ls -l"
   ]
  },
  {
   "cell_type": "code",
   "execution_count": null,
   "metadata": {},
   "outputs": [],
   "source": [
    "! ls --help"
   ]
  },
  {
   "cell_type": "code",
   "execution_count": null,
   "metadata": {},
   "outputs": [],
   "source": [
    "## Concepts\n",
    "* ls useful without arguments (ie has some defaults)\n",
    "* positional argument with ls pypy (program figures out what to do from the position of the argument)\n",
    "* optional argument -l\n",
    "* --help argument for showing what the program does when you come upon something never seen\n"
   ]
  },
  {
   "cell_type": "code",
   "execution_count": 7,
   "metadata": {},
   "outputs": [
    {
     "name": "stdout",
     "output_type": "stream",
     "text": [
      "Writing arg.py\n"
     ]
    }
   ],
   "source": [
    "%%writefile arg.py\n",
    "import argparse\n",
    "parser = argparse.ArgumentParser()\n",
    "parser.parse_args()"
   ]
  },
  {
   "cell_type": "code",
   "execution_count": null,
   "metadata": {},
   "outputs": [],
   "source": [
    "# Run python programs from Jupyter !! with %run (-i) is interactive mode!!"
   ]
  },
  {
   "cell_type": "code",
   "execution_count": 16,
   "metadata": {},
   "outputs": [
    {
     "name": "stdout",
     "output_type": "stream",
     "text": [
      "usage: arg.py [-h]\n",
      "\n",
      "optional arguments:\n",
      "  -h, --help  show this help message and exit\n"
     ]
    }
   ],
   "source": [
    "%run -i arg --help"
   ]
  },
  {
   "cell_type": "code",
   "execution_count": 17,
   "metadata": {},
   "outputs": [
    {
     "name": "stderr",
     "output_type": "stream",
     "text": [
      "usage: arg.py [-h]\n",
      "arg.py: error: unrecognized arguments: --verbose\n"
     ]
    },
    {
     "ename": "SystemExit",
     "evalue": "2",
     "output_type": "error",
     "traceback": [
      "An exception has occurred, use %tb to see the full traceback.\n",
      "\u001b[1;31mSystemExit\u001b[0m\u001b[1;31m:\u001b[0m 2\n"
     ]
    }
   ],
   "source": [
    "%run -i arg --verbose"
   ]
  },
  {
   "cell_type": "code",
   "execution_count": 18,
   "metadata": {},
   "outputs": [
    {
     "name": "stderr",
     "output_type": "stream",
     "text": [
      "usage: arg.py [-h]\n",
      "arg.py: error: unrecognized arguments: foo\n"
     ]
    },
    {
     "ename": "SystemExit",
     "evalue": "2",
     "output_type": "error",
     "traceback": [
      "An exception has occurred, use %tb to see the full traceback.\n",
      "\u001b[1;31mSystemExit\u001b[0m\u001b[1;31m:\u001b[0m 2\n"
     ]
    }
   ],
   "source": [
    "%run -i arg foo"
   ]
  },
  {
   "cell_type": "code",
   "execution_count": null,
   "metadata": {},
   "outputs": [],
   "source": [
    "python3 arg.py\n",
    "python3 arg.py --help\n",
    "python3 arg.py --verbose\n",
    " python3 arg.py foo"
   ]
  },
  {
   "cell_type": "code",
   "execution_count": null,
   "metadata": {},
   "outputs": [],
   "source": []
  },
  {
   "cell_type": "code",
   "execution_count": null,
   "metadata": {},
   "outputs": [],
   "source": []
  },
  {
   "cell_type": "markdown",
   "metadata": {},
   "source": [
    "* Running the script without any options results in nothing displayed to stdout. Not so useful.\n",
    "* The second one starts to display the usefulness of the argparse module. We have done almost nothing, but already we get a nice help message.\n",
    "* The --help option, which can also be shortened to -h, is the only option we get for free (i.e. no need to specify it). Specifying anything else results in an error. But even then, we do get a useful usage message, also for free"
   ]
  },
  {
   "cell_type": "code",
   "execution_count": 19,
   "metadata": {},
   "outputs": [
    {
     "name": "stdout",
     "output_type": "stream",
     "text": [
      "Writing argpos.py\n"
     ]
    }
   ],
   "source": [
    "%%writefile argpos.py\n",
    "import argparse\n",
    "parser = argparse.ArgumentParser()\n",
    "parser.add_argument(\"echo\")\n",
    "args = parser.parse_args()\n",
    "print(args.echo)"
   ]
  },
  {
   "cell_type": "code",
   "execution_count": 20,
   "metadata": {},
   "outputs": [
    {
     "name": "stdout",
     "output_type": "stream",
     "text": [
      "usage: argpos.py [-h] echo\n",
      "\n",
      "positional arguments:\n",
      "  echo\n",
      "\n",
      "optional arguments:\n",
      "  -h, --help  show this help message and exit\n"
     ]
    }
   ],
   "source": [
    "%run -i argpos --help"
   ]
  },
  {
   "cell_type": "code",
   "execution_count": 21,
   "metadata": {},
   "outputs": [
    {
     "name": "stdout",
     "output_type": "stream",
     "text": [
      "whatever\n"
     ]
    }
   ],
   "source": [
    "%run -i argpos whatever"
   ]
  },
  {
   "cell_type": "markdown",
   "metadata": {},
   "source": [
    "### add_argument() for adding arguments\n",
    "\n",
    "* We’ve added the add_argument() method, which is what we use to specify which command-line options the program is willing to accept. In this case, I’ve named it echo so that it’s in line with its function.\n",
    "* Calling our program now requires us to specify an option.\n",
    "* The parse_args() method actually returns some data from the options specified, in this case, echo.\n",
    "* The variable is some form of ‘magic’ that argparse performs for free (i.e. no need to specify which variable that value is stored in). You will also notice that its name matches the string argument given to the method, echo."
   ]
  },
  {
   "cell_type": "code",
   "execution_count": 22,
   "metadata": {},
   "outputs": [
    {
     "name": "stdout",
     "output_type": "stream",
     "text": [
      "Overwriting argpos.py\n"
     ]
    }
   ],
   "source": [
    "%%writefile argpos.py\n",
    "import argparse\n",
    "parser = argparse.ArgumentParser()\n",
    "parser.add_argument(\"echo\", help=\"echoes the string you use here\")\n",
    "args = parser.parse_args()\n",
    "print(args.echo)"
   ]
  },
  {
   "cell_type": "code",
   "execution_count": 24,
   "metadata": {},
   "outputs": [
    {
     "name": "stdout",
     "output_type": "stream",
     "text": [
      "usage: argpos.py [-h] echo\n",
      "\n",
      "positional arguments:\n",
      "  echo        echoes the string you use here\n",
      "\n",
      "optional arguments:\n",
      "  -h, --help  show this help message and exit\n"
     ]
    }
   ],
   "source": [
    "%run -i argpos -h"
   ]
  },
  {
   "cell_type": "code",
   "execution_count": 25,
   "metadata": {},
   "outputs": [
    {
     "name": "stdout",
     "output_type": "stream",
     "text": [
      "mymessage\n"
     ]
    }
   ],
   "source": [
    "%run -i argpos mymessage"
   ]
  },
  {
   "cell_type": "code",
   "execution_count": 28,
   "metadata": {},
   "outputs": [
    {
     "name": "stdout",
     "output_type": "stream",
     "text": [
      "Writing square.py\n"
     ]
    }
   ],
   "source": [
    "%%writefile square.py\n",
    "import argparse\n",
    "parser = argparse.ArgumentParser()\n",
    "parser.add_argument(\"square\", help=\"display a square of a given number\")\n",
    "args = parser.parse_args()\n",
    "print(args.square**2)"
   ]
  },
  {
   "cell_type": "code",
   "execution_count": 29,
   "metadata": {},
   "outputs": [
    {
     "ename": "TypeError",
     "evalue": "unsupported operand type(s) for ** or pow(): 'str' and 'int'",
     "output_type": "error",
     "traceback": [
      "\u001b[1;31m---------------------------------------------------------------------------\u001b[0m",
      "\u001b[1;31mTypeError\u001b[0m                                 Traceback (most recent call last)",
      "\u001b[1;32m~\\Documents\\Github\\RCS_Python\\square.py\u001b[0m in \u001b[0;36m<module>\u001b[1;34m()\u001b[0m\n\u001b[0;32m      3\u001b[0m \u001b[0mparser\u001b[0m\u001b[1;33m.\u001b[0m\u001b[0madd_argument\u001b[0m\u001b[1;33m(\u001b[0m\u001b[1;34m\"square\"\u001b[0m\u001b[1;33m,\u001b[0m \u001b[0mhelp\u001b[0m\u001b[1;33m=\u001b[0m\u001b[1;34m\"display a square of a given number\"\u001b[0m\u001b[1;33m)\u001b[0m\u001b[1;33m\u001b[0m\u001b[0m\n\u001b[0;32m      4\u001b[0m \u001b[0margs\u001b[0m \u001b[1;33m=\u001b[0m \u001b[0mparser\u001b[0m\u001b[1;33m.\u001b[0m\u001b[0mparse_args\u001b[0m\u001b[1;33m(\u001b[0m\u001b[1;33m)\u001b[0m\u001b[1;33m\u001b[0m\u001b[0m\n\u001b[1;32m----> 5\u001b[1;33m \u001b[0mprint\u001b[0m\u001b[1;33m(\u001b[0m\u001b[0margs\u001b[0m\u001b[1;33m.\u001b[0m\u001b[0msquare\u001b[0m\u001b[1;33m**\u001b[0m\u001b[1;36m2\u001b[0m\u001b[1;33m)\u001b[0m\u001b[1;33m\u001b[0m\u001b[0m\n\u001b[0m",
      "\u001b[1;31mTypeError\u001b[0m: unsupported operand type(s) for ** or pow(): 'str' and 'int'"
     ]
    }
   ],
   "source": [
    "%run -i square 50"
   ]
  },
  {
   "cell_type": "code",
   "execution_count": null,
   "metadata": {},
   "outputs": [],
   "source": [
    "That didn’t go so well. That’s because argparse treats the options we give it as strings, unless we tell it otherwise. So, let’s tell argparse to treat that input as an integer"
   ]
  },
  {
   "cell_type": "code",
   "execution_count": 30,
   "metadata": {},
   "outputs": [
    {
     "name": "stdout",
     "output_type": "stream",
     "text": [
      "Overwriting square.py\n"
     ]
    }
   ],
   "source": [
    "%%writefile square.py\n",
    "import argparse\n",
    "parser = argparse.ArgumentParser()\n",
    "parser.add_argument(\"square\", help=\"display a square of a given number\",\n",
    "                    type=int)\n",
    "args = parser.parse_args()\n",
    "print(args.square**2)"
   ]
  },
  {
   "cell_type": "code",
   "execution_count": 32,
   "metadata": {},
   "outputs": [
    {
     "name": "stdout",
     "output_type": "stream",
     "text": [
      "usage: square.py [-h] square\n",
      "\n",
      "positional arguments:\n",
      "  square      display a square of a given number\n",
      "\n",
      "optional arguments:\n",
      "  -h, --help  show this help message and exit\n",
      "400\n"
     ]
    }
   ],
   "source": [
    "%run -i square --help\n",
    "%run -i square 20"
   ]
  },
  {
   "cell_type": "code",
   "execution_count": 33,
   "metadata": {},
   "outputs": [
    {
     "name": "stdout",
     "output_type": "stream",
     "text": [
      "Writing argopt.py\n"
     ]
    }
   ],
   "source": [
    "%%writefile argopt.py\n",
    "import argparse\n",
    "parser = argparse.ArgumentParser()\n",
    "parser.add_argument(\"--verbosity\", help=\"increase output verbosity\")\n",
    "args = parser.parse_args()\n",
    "if args.verbosity:\n",
    "    print(\"verbosity turned on\")"
   ]
  },
  {
   "cell_type": "code",
   "execution_count": 34,
   "metadata": {},
   "outputs": [
    {
     "name": "stderr",
     "output_type": "stream",
     "text": [
      "usage: argopt.py [-h] [--verbosity VERBOSITY]\n",
      "argopt.py: error: argument --verbosity: expected one argument\n"
     ]
    },
    {
     "ename": "SystemExit",
     "evalue": "2",
     "output_type": "error",
     "traceback": [
      "An exception has occurred, use %tb to see the full traceback.\n",
      "\u001b[1;31mSystemExit\u001b[0m\u001b[1;31m:\u001b[0m 2\n"
     ]
    }
   ],
   "source": [
    "%run -i argopt --verbosity"
   ]
  },
  {
   "cell_type": "code",
   "execution_count": 35,
   "metadata": {},
   "outputs": [
    {
     "name": "stdout",
     "output_type": "stream",
     "text": [
      "usage: argopt.py [-h] [--verbosity VERBOSITY]\n",
      "\n",
      "optional arguments:\n",
      "  -h, --help            show this help message and exit\n",
      "  --verbosity VERBOSITY\n",
      "                        increase output verbosity\n"
     ]
    }
   ],
   "source": [
    "%run -i argopt --help"
   ]
  },
  {
   "cell_type": "code",
   "execution_count": 36,
   "metadata": {},
   "outputs": [
    {
     "name": "stdout",
     "output_type": "stream",
     "text": [
      "verbosity turned on\n"
     ]
    }
   ],
   "source": [
    "%run -i argopt --verbosity 30"
   ]
  },
  {
   "cell_type": "markdown",
   "metadata": {},
   "source": [
    "### Optional Arguments\n",
    "* The program is written so as to display something when --verbosity is specified and display nothing when not.\n",
    "* To show that the option is actually optional, there is no error when running the program without it. Note that by default, if an optional argument isn’t used, the relevant variable, in this case args.verbosity, is given None as a value, which is the reason it fails the truth test of the if statement.\n",
    "* The help message is a bit different.\n",
    "* When using the --verbosity option, one must also specify some value, any value."
   ]
  },
  {
   "cell_type": "markdown",
   "metadata": {},
   "source": [
    "## Boolean Argument\n",
    "(we either use it as True or if we do not use it then it is false)"
   ]
  },
  {
   "cell_type": "code",
   "execution_count": 45,
   "metadata": {},
   "outputs": [
    {
     "name": "stdout",
     "output_type": "stream",
     "text": [
      "Overwriting argopt.py\n"
     ]
    }
   ],
   "source": [
    "%%writefile argopt.py\n",
    "import argparse\n",
    "parser = argparse.ArgumentParser()\n",
    "parser.add_argument(\"--verbose\", help=\"increase output verbosity\",\n",
    "                    action=\"store_true\") # special action key and store_true specifies Bool True if on !\n",
    "args = parser.parse_args()\n",
    "if args.verbose:\n",
    "    print(\"verbosity turned on\")\n",
    "else:\n",
    "    print(\"Ha we are not verbose, but whom am I kidding!\")"
   ]
  },
  {
   "cell_type": "code",
   "execution_count": 43,
   "metadata": {},
   "outputs": [
    {
     "name": "stdout",
     "output_type": "stream",
     "text": [
      "usage: argopt.py [-h] [--verbose]\n",
      "\n",
      "optional arguments:\n",
      "  -h, --help  show this help message and exit\n",
      "  --verbose   increase output verbosity\n",
      "verbosity turned on\n"
     ]
    }
   ],
   "source": [
    "%run -i argopt --help\n",
    "%run -i argopt --verbose\n"
   ]
  },
  {
   "cell_type": "code",
   "execution_count": 44,
   "metadata": {},
   "outputs": [
    {
     "name": "stdout",
     "output_type": "stream",
     "text": [
      "Ha we are not verbose, but whom am I kidding!\n"
     ]
    }
   ],
   "source": [
    "%run -i argopt"
   ]
  },
  {
   "cell_type": "markdown",
   "metadata": {},
   "source": [
    "### Boolean argument does not need values!\n",
    "\n",
    "* The option is now more of a flag than something that requires a value. We even changed the name of the option to match that idea. Note that we now specify a new keyword, action, and give it the value \"store_true\". This means that, if the option is specified, assign the value True to args.verbose. Not specifying it implies False.\n",
    "* It complains when you specify a value, in true spirit of what flags actually are.\n",
    "* Notice the different help text."
   ]
  },
  {
   "cell_type": "markdown",
   "metadata": {},
   "source": [
    "## Short Options"
   ]
  },
  {
   "cell_type": "code",
   "execution_count": 53,
   "metadata": {},
   "outputs": [
    {
     "name": "stdout",
     "output_type": "stream",
     "text": [
      "Overwriting argopt.py\n"
     ]
    }
   ],
   "source": [
    "%%writefile argopt.py\n",
    "import argparse\n",
    "parser = argparse.ArgumentParser()\n",
    "# optional argument has to start with - \n",
    "parser.add_argument( \"-extralongflag\",\"-v\",\"--verbose\", help=\"increase output verbosity\",\n",
    "                    action=\"store_true\") # special action key and store_true specifies Bool True if on !\n",
    "args = parser.parse_args()\n",
    "if args.verbose:\n",
    "    print(\"verbosity turned on\")\n",
    "else:\n",
    "    print(\"Ha we are not verbose, but whom am I kidding!\")"
   ]
  },
  {
   "cell_type": "code",
   "execution_count": 55,
   "metadata": {},
   "outputs": [
    {
     "name": "stdout",
     "output_type": "stream",
     "text": [
      "usage: argopt.py [-h] [-extralongflag]\n",
      "\n",
      "optional arguments:\n",
      "  -h, --help            show this help message and exit\n",
      "  -extralongflag, -v, --verbose\n",
      "                        increase output verbosity\n",
      "verbosity turned on\n",
      "verbosity turned on\n"
     ]
    }
   ],
   "source": [
    "%run -i argopt --help\n",
    "%run -i argopt -v\n",
    "%run -i argopt -extralongflag"
   ]
  },
  {
   "cell_type": "markdown",
   "metadata": {},
   "source": [
    "## Combined Positional and Optional Arguments"
   ]
  },
  {
   "cell_type": "code",
   "execution_count": 57,
   "metadata": {},
   "outputs": [
    {
     "name": "stdout",
     "output_type": "stream",
     "text": [
      "Overwriting square.py\n"
     ]
    }
   ],
   "source": [
    "%%writefile square.py\n",
    "import argparse\n",
    "parser = argparse.ArgumentParser()\n",
    "parser.add_argument(\"square\", type=int,\n",
    "                    help=\"display a square of a given number\")\n",
    "parser.add_argument(\"-v\", \"--verbose\", action=\"store_true\",\n",
    "                    help=\"increase output verbosity\")\n",
    "args = parser.parse_args()\n",
    "answer = args.square**2\n",
    "if args.verbose:\n",
    "    print(f\"the square of {args.square} equals {answer}\")\n",
    "else:\n",
    "    print(answer)"
   ]
  },
  {
   "cell_type": "code",
   "execution_count": 58,
   "metadata": {},
   "outputs": [
    {
     "name": "stderr",
     "output_type": "stream",
     "text": [
      "usage: square.py [-h] [-v] square\n",
      "square.py: error: the following arguments are required: square\n"
     ]
    },
    {
     "ename": "SystemExit",
     "evalue": "2",
     "output_type": "error",
     "traceback": [
      "An exception has occurred, use %tb to see the full traceback.\n",
      "\u001b[1;31mSystemExit\u001b[0m\u001b[1;31m:\u001b[0m 2\n"
     ]
    }
   ],
   "source": [
    "%run -i square"
   ]
  },
  {
   "cell_type": "code",
   "execution_count": 59,
   "metadata": {},
   "outputs": [
    {
     "name": "stdout",
     "output_type": "stream",
     "text": [
      "900\n"
     ]
    }
   ],
   "source": [
    "%run -i square 30"
   ]
  },
  {
   "cell_type": "code",
   "execution_count": 60,
   "metadata": {},
   "outputs": [
    {
     "name": "stdout",
     "output_type": "stream",
     "text": [
      "usage: square.py [-h] [-v] square\n",
      "\n",
      "positional arguments:\n",
      "  square         display a square of a given number\n",
      "\n",
      "optional arguments:\n",
      "  -h, --help     show this help message and exit\n",
      "  -v, --verbose  increase output verbosity\n",
      "the square of 30 equals 900\n"
     ]
    }
   ],
   "source": [
    "%run -i square -h\n",
    "%run -i square 30 -v"
   ]
  },
  {
   "cell_type": "code",
   "execution_count": 62,
   "metadata": {},
   "outputs": [
    {
     "name": "stdout",
     "output_type": "stream",
     "text": [
      "the square of 30 equals 900\n"
     ]
    }
   ],
   "source": [
    "#optional arguments can go anywhere!\n",
    "%run -i square -v 30"
   ]
  },
  {
   "cell_type": "code",
   "execution_count": 66,
   "metadata": {},
   "outputs": [
    {
     "name": "stdout",
     "output_type": "stream",
     "text": [
      "Overwriting square.py\n"
     ]
    }
   ],
   "source": [
    "%%writefile square.py\n",
    "import argparse\n",
    "parser = argparse.ArgumentParser()\n",
    "parser.add_argument(\"square\", type=int,\n",
    "                    help=\"display a square of a given number\")\n",
    "parser.add_argument(\"-v\", \"--verbosity\", type=int,\n",
    "                    help=\"increase output verbosity\")\n",
    "args = parser.parse_args()\n",
    "answer = args.square**2\n",
    "if args.verbosity == 2:\n",
    "    print(f\"the square of {args.square} equals {answer}\")\n",
    "elif args.verbosity == 1:\n",
    "    print(f\"{args.square}^2 == {answer}\")\n",
    "else:\n",
    "    print(answer)"
   ]
  },
  {
   "cell_type": "code",
   "execution_count": 64,
   "metadata": {},
   "outputs": [
    {
     "name": "stdout",
     "output_type": "stream",
     "text": [
      "usage: square.py [-h] [-v VERBOSITY] square\n",
      "\n",
      "positional arguments:\n",
      "  square                display a square of a given number\n",
      "\n",
      "optional arguments:\n",
      "  -h, --help            show this help message and exit\n",
      "  -v VERBOSITY, --verbosity VERBOSITY\n",
      "                        increase output verbosity\n"
     ]
    },
    {
     "name": "stderr",
     "output_type": "stream",
     "text": [
      "usage: square.py [-h] [-v VERBOSITY] square\n",
      "square.py: error: argument -v/--verbosity: expected one argument\n"
     ]
    },
    {
     "ename": "SystemExit",
     "evalue": "2",
     "output_type": "error",
     "traceback": [
      "An exception has occurred, use %tb to see the full traceback.\n",
      "\u001b[1;31mSystemExit\u001b[0m\u001b[1;31m:\u001b[0m 2\n"
     ]
    }
   ],
   "source": [
    "%run -i square -h\n",
    "%run -i square 30 -v "
   ]
  },
  {
   "cell_type": "code",
   "execution_count": 67,
   "metadata": {},
   "outputs": [
    {
     "name": "stdout",
     "output_type": "stream",
     "text": [
      "900\n",
      "30^2 == 900\n",
      "the square of 30 equals 900\n",
      "900\n"
     ]
    }
   ],
   "source": [
    "%run -i square 30 -v 0\n",
    "%run -i square 30 -v 1\n",
    "%run -i square 30 -v 2\n",
    "%run -i square 30 -v 3"
   ]
  },
  {
   "cell_type": "code",
   "execution_count": 68,
   "metadata": {},
   "outputs": [],
   "source": [
    "# Notice the bug?"
   ]
  },
  {
   "cell_type": "code",
   "execution_count": 71,
   "metadata": {},
   "outputs": [
    {
     "name": "stdout",
     "output_type": "stream",
     "text": [
      "Overwriting square.py\n"
     ]
    }
   ],
   "source": [
    "%%writefile square.py\n",
    "import argparse\n",
    "parser = argparse.ArgumentParser()\n",
    "parser.add_argument(\"square\", type=int,\n",
    "                    help=\"display a square of a given number\")\n",
    "parser.add_argument(\"-v\", \"--verbosity\", type=int, choices=[0,1,2],\n",
    "                    help=\"increase output verbosity\")\n",
    "args = parser.parse_args()\n",
    "answer = args.square**2\n",
    "if args.verbosity == 2:\n",
    "    print(f\"the square of {args.square} equals {answer}\")\n",
    "elif args.verbosity == 1:\n",
    "    print(f\"{args.square}^2 == {answer}\")\n",
    "else:\n",
    "    print(answer)"
   ]
  },
  {
   "cell_type": "code",
   "execution_count": null,
   "metadata": {},
   "outputs": [],
   "source": []
  },
  {
   "cell_type": "code",
   "execution_count": 72,
   "metadata": {},
   "outputs": [
    {
     "name": "stdout",
     "output_type": "stream",
     "text": [
      "900\n",
      "30^2 == 900\n",
      "the square of 30 equals 900\n"
     ]
    },
    {
     "name": "stderr",
     "output_type": "stream",
     "text": [
      "usage: square.py [-h] [-v {0,1,2}] square\n",
      "square.py: error: argument -v/--verbosity: invalid choice: 3 (choose from 0, 1, 2)\n"
     ]
    },
    {
     "ename": "SystemExit",
     "evalue": "2",
     "output_type": "error",
     "traceback": [
      "An exception has occurred, use %tb to see the full traceback.\n",
      "\u001b[1;31mSystemExit\u001b[0m\u001b[1;31m:\u001b[0m 2\n"
     ]
    }
   ],
   "source": [
    "%run -i square 30 -v 0\n",
    "%run -i square 30 -v 1\n",
    "%run -i square 30 -v 2\n",
    "%run -i square 30 -v 3"
   ]
  },
  {
   "cell_type": "markdown",
   "metadata": {},
   "source": [
    "## Using action=\"count\" to modify levels of verbosity"
   ]
  },
  {
   "cell_type": "code",
   "execution_count": 75,
   "metadata": {},
   "outputs": [
    {
     "name": "stdout",
     "output_type": "stream",
     "text": [
      "Overwriting square.py\n"
     ]
    }
   ],
   "source": [
    "%%writefile square.py\n",
    "import argparse\n",
    "parser = argparse.ArgumentParser()\n",
    "parser.add_argument(\"square\", type=int,\n",
    "                    help=\"display a square of a given number\")\n",
    "parser.add_argument(\"-v\", \"--verbosity\", action=\"count\",\n",
    "                    help=\"increase output verbosity\")\n",
    "args = parser.parse_args()\n",
    "answer = args.square**2\n",
    "if args.verbosity == 2:\n",
    "    print(f\"the square of {args.square} equals {answer}\")\n",
    "elif args.verbosity == 1:\n",
    "    print(f\"{args.square}^2 == {answer}\")\n",
    "else:\n",
    "    print(answer)"
   ]
  },
  {
   "cell_type": "code",
   "execution_count": 76,
   "metadata": {},
   "outputs": [
    {
     "name": "stdout",
     "output_type": "stream",
     "text": [
      "usage: square.py [-h] [-v] square\n",
      "\n",
      "positional arguments:\n",
      "  square           display a square of a given number\n",
      "\n",
      "optional arguments:\n",
      "  -h, --help       show this help message and exit\n",
      "  -v, --verbosity  increase output verbosity\n"
     ]
    }
   ],
   "source": [
    "%run -i square -h"
   ]
  },
  {
   "cell_type": "code",
   "execution_count": 79,
   "metadata": {},
   "outputs": [
    {
     "name": "stdout",
     "output_type": "stream",
     "text": [
      "900\n"
     ]
    }
   ],
   "source": [
    "% run -i square 30"
   ]
  },
  {
   "cell_type": "code",
   "execution_count": 78,
   "metadata": {},
   "outputs": [
    {
     "name": "stdout",
     "output_type": "stream",
     "text": [
      "30^2 == 900\n"
     ]
    }
   ],
   "source": [
    "% run -i square 30 -v"
   ]
  },
  {
   "cell_type": "code",
   "execution_count": 77,
   "metadata": {},
   "outputs": [
    {
     "name": "stdout",
     "output_type": "stream",
     "text": [
      "the square of 30 equals 900\n"
     ]
    }
   ],
   "source": [
    "% run -i square 30 -vv"
   ]
  },
  {
   "cell_type": "code",
   "execution_count": 80,
   "metadata": {},
   "outputs": [
    {
     "name": "stdout",
     "output_type": "stream",
     "text": [
      "900\n"
     ]
    }
   ],
   "source": [
    "% run -i square 30 -vvv"
   ]
  },
  {
   "cell_type": "markdown",
   "metadata": {},
   "source": [
    "* Yes, it’s now more of a flag (similar to action=\"store_true\") in the previous version of our script. That should explain the complaint.\n",
    "* It also behaves similar to “store_true” action.\n",
    "* Now here’s a demonstration of what the “count” action gives. You’ve probably seen this sort of usage before.\n",
    "* And if you don’t specify the -v flag, that flag is considered to have None value.\n",
    "* As should be expected, specifying the long form of the flag, we should get the same output.\n",
    "* Sadly, our help output isn’t very informative on the new ability our script has acquired, but that can always be fixed by improving the documentation for our script (e.g. via the help keyword argument).\n",
    "* That last output exposes a bug in our program."
   ]
  },
  {
   "cell_type": "code",
   "execution_count": null,
   "metadata": {},
   "outputs": [],
   "source": [
    "## Bugfix "
   ]
  },
  {
   "cell_type": "code",
   "execution_count": 82,
   "metadata": {},
   "outputs": [
    {
     "name": "stdout",
     "output_type": "stream",
     "text": [
      "Overwriting square.py\n"
     ]
    }
   ],
   "source": [
    "%%writefile square.py\n",
    "import argparse\n",
    "parser = argparse.ArgumentParser()\n",
    "parser.add_argument(\"square\", type=int,\n",
    "                    help=\"display a square of a given number\")\n",
    "parser.add_argument(\"-v\", \"--verbosity\", action=\"count\",\n",
    "                    help=\"increase output verbosity\")\n",
    "args = parser.parse_args()\n",
    "answer = args.square**2\n",
    "if args.verbosity >= 2:\n",
    "    print(f\"the square of {args.square} equals {answer}\")\n",
    "elif args.verbosity == 1:\n",
    "    print(f\"{args.square}^2 == {answer}\")\n",
    "else:\n",
    "    print(answer)"
   ]
  },
  {
   "cell_type": "code",
   "execution_count": 83,
   "metadata": {},
   "outputs": [
    {
     "name": "stdout",
     "output_type": "stream",
     "text": [
      "the square of 30 equals 900\n"
     ]
    }
   ],
   "source": [
    "% run -i square 30 -vvv"
   ]
  },
  {
   "cell_type": "code",
   "execution_count": 84,
   "metadata": {},
   "outputs": [
    {
     "name": "stdout",
     "output_type": "stream",
     "text": [
      "the square of 30 equals 900\n"
     ]
    }
   ],
   "source": [
    "% run -i square 30 -vvvvvvv"
   ]
  },
  {
   "cell_type": "code",
   "execution_count": 85,
   "metadata": {},
   "outputs": [
    {
     "ename": "TypeError",
     "evalue": "'>=' not supported between instances of 'NoneType' and 'int'",
     "output_type": "error",
     "traceback": [
      "\u001b[1;31m---------------------------------------------------------------------------\u001b[0m",
      "\u001b[1;31mTypeError\u001b[0m                                 Traceback (most recent call last)",
      "\u001b[1;32m~\\Documents\\Github\\RCS_Python\\square.py\u001b[0m in \u001b[0;36m<module>\u001b[1;34m()\u001b[0m\n\u001b[0;32m      7\u001b[0m \u001b[0margs\u001b[0m \u001b[1;33m=\u001b[0m \u001b[0mparser\u001b[0m\u001b[1;33m.\u001b[0m\u001b[0mparse_args\u001b[0m\u001b[1;33m(\u001b[0m\u001b[1;33m)\u001b[0m\u001b[1;33m\u001b[0m\u001b[0m\n\u001b[0;32m      8\u001b[0m \u001b[0manswer\u001b[0m \u001b[1;33m=\u001b[0m \u001b[0margs\u001b[0m\u001b[1;33m.\u001b[0m\u001b[0msquare\u001b[0m\u001b[1;33m**\u001b[0m\u001b[1;36m2\u001b[0m\u001b[1;33m\u001b[0m\u001b[0m\n\u001b[1;32m----> 9\u001b[1;33m \u001b[1;32mif\u001b[0m \u001b[0margs\u001b[0m\u001b[1;33m.\u001b[0m\u001b[0mverbosity\u001b[0m \u001b[1;33m>=\u001b[0m \u001b[1;36m2\u001b[0m\u001b[1;33m:\u001b[0m\u001b[1;33m\u001b[0m\u001b[0m\n\u001b[0m\u001b[0;32m     10\u001b[0m     \u001b[0mprint\u001b[0m\u001b[1;33m(\u001b[0m\u001b[1;34mf\"the square of {args.square} equals {answer}\"\u001b[0m\u001b[1;33m)\u001b[0m\u001b[1;33m\u001b[0m\u001b[0m\n\u001b[0;32m     11\u001b[0m \u001b[1;32melif\u001b[0m \u001b[0margs\u001b[0m\u001b[1;33m.\u001b[0m\u001b[0mverbosity\u001b[0m \u001b[1;33m==\u001b[0m \u001b[1;36m1\u001b[0m\u001b[1;33m:\u001b[0m\u001b[1;33m\u001b[0m\u001b[0m\n",
      "\u001b[1;31mTypeError\u001b[0m: '>=' not supported between instances of 'NoneType' and 'int'"
     ]
    }
   ],
   "source": [
    "## Sadly a new bug now\n",
    "% run -i square 30"
   ]
  },
  {
   "cell_type": "code",
   "execution_count": 86,
   "metadata": {},
   "outputs": [],
   "source": [
    "## by default, if an optional argument isn’t specified, it gets the None value, and that cannot be compared to an int value (hence the TypeError exception)."
   ]
  },
  {
   "cell_type": "markdown",
   "metadata": {},
   "source": [
    "## Addding default value to argument with default key"
   ]
  },
  {
   "cell_type": "code",
   "execution_count": 90,
   "metadata": {},
   "outputs": [
    {
     "name": "stdout",
     "output_type": "stream",
     "text": [
      "Overwriting square.py\n"
     ]
    }
   ],
   "source": [
    "%%writefile square.py\n",
    "import argparse\n",
    "parser = argparse.ArgumentParser()\n",
    "parser.add_argument(\"square\", type=int,\n",
    "                    help=\"display a square of a given number\")\n",
    "parser.add_argument(\"-v\", \"--verbosity\", action=\"count\", default=0,\n",
    "                    help=\"increase output verbosity\")\n",
    "args = parser.parse_args()\n",
    "answer = args.square**2\n",
    "if args.verbosity >= 2:\n",
    "    print(f\"the square of {args.square} equals {answer}\")\n",
    "elif args.verbosity == 1:\n",
    "    print(f\"{args.square}^2 == {answer}\")\n",
    "else:\n",
    "    print(answer)"
   ]
  },
  {
   "cell_type": "code",
   "execution_count": 91,
   "metadata": {},
   "outputs": [
    {
     "name": "stdout",
     "output_type": "stream",
     "text": [
      "900\n"
     ]
    }
   ],
   "source": [
    "% run -i square 30"
   ]
  },
  {
   "cell_type": "code",
   "execution_count": 92,
   "metadata": {},
   "outputs": [
    {
     "name": "stdout",
     "output_type": "stream",
     "text": [
      "Writing pow.py\n"
     ]
    }
   ],
   "source": [
    "%%writefile pow.py\n",
    "import argparse\n",
    "parser = argparse.ArgumentParser()\n",
    "parser.add_argument(\"x\", type=int,\n",
    "                    help=\"the base\")\n",
    "parser.add_argument(\"y\", type=int,\n",
    "                    help=\"the exponent\")\n",
    "parser.add_argument(\"-v\", \"--verbosity\", action=\"count\", default=0,\n",
    "                    help=\"increase output verbosity\")\n",
    "args = parser.parse_args()\n",
    "answer = args.x**args.y\n",
    "if args.verbosity >= 2:\n",
    "    print(f\"{args.x} to the power of  {args.y} equals {answer}\")\n",
    "elif args.verbosity == 1:\n",
    "    print(f\"{args.x}^{args.y} == {answer}\")\n",
    "else:\n",
    "    print(answer)"
   ]
  },
  {
   "cell_type": "code",
   "execution_count": 93,
   "metadata": {},
   "outputs": [
    {
     "name": "stdout",
     "output_type": "stream",
     "text": [
      "243\n"
     ]
    }
   ],
   "source": [
    "% run -i pow 3 5"
   ]
  },
  {
   "cell_type": "code",
   "execution_count": 94,
   "metadata": {},
   "outputs": [
    {
     "name": "stdout",
     "output_type": "stream",
     "text": [
      "3^5 == 243\n"
     ]
    }
   ],
   "source": [
    "% run -i pow 3 5 -v"
   ]
  },
  {
   "cell_type": "code",
   "execution_count": 95,
   "metadata": {},
   "outputs": [
    {
     "name": "stdout",
     "output_type": "stream",
     "text": [
      "3 to the power of  5 equals 243\n"
     ]
    }
   ],
   "source": [
    "% run -i pow 3 5 -vvvv"
   ]
  },
  {
   "cell_type": "code",
   "execution_count": 96,
   "metadata": {},
   "outputs": [
    {
     "name": "stdout",
     "output_type": "stream",
     "text": [
      "Writing powex.py\n"
     ]
    }
   ],
   "source": [
    "%%writefile powex.py\n",
    "import argparse\n",
    "\n",
    "parser = argparse.ArgumentParser()\n",
    "group = parser.add_mutually_exclusive_group()\n",
    "group.add_argument(\"-v\", \"--verbose\", action=\"store_true\")\n",
    "group.add_argument(\"-q\", \"--quiet\", action=\"store_true\")\n",
    "parser.add_argument(\"x\", type=int, help=\"the base\")\n",
    "parser.add_argument(\"y\", type=int, help=\"the exponent\")\n",
    "args = parser.parse_args()\n",
    "answer = args.x**args.y\n",
    "\n",
    "if args.quiet:\n",
    "    print(answer)\n",
    "elif args.verbose:\n",
    "    print(\"{} to the power {} equals {}\".format(args.x, args.y, answer))\n",
    "else:\n",
    "    print(\"{}^{} == {}\".format(args.x, args.y, answer))"
   ]
  },
  {
   "cell_type": "code",
   "execution_count": 97,
   "metadata": {},
   "outputs": [
    {
     "name": "stdout",
     "output_type": "stream",
     "text": [
      "2^6 == 64\n"
     ]
    }
   ],
   "source": [
    "% run -i powex 2 6"
   ]
  },
  {
   "cell_type": "code",
   "execution_count": 98,
   "metadata": {},
   "outputs": [
    {
     "name": "stdout",
     "output_type": "stream",
     "text": [
      "64\n"
     ]
    }
   ],
   "source": [
    "% run -i powex 2 6 -q"
   ]
  },
  {
   "cell_type": "code",
   "execution_count": 99,
   "metadata": {},
   "outputs": [
    {
     "name": "stdout",
     "output_type": "stream",
     "text": [
      "2 to the power 6 equals 64\n"
     ]
    }
   ],
   "source": [
    "% run -i powex 2 6 -v"
   ]
  },
  {
   "cell_type": "code",
   "execution_count": 100,
   "metadata": {},
   "outputs": [
    {
     "name": "stderr",
     "output_type": "stream",
     "text": [
      "usage: powex.py [-h] [-v | -q] x y\n",
      "powex.py: error: argument -v/--verbose: not allowed with argument -q/--quiet\n"
     ]
    },
    {
     "ename": "SystemExit",
     "evalue": "2",
     "output_type": "error",
     "traceback": [
      "An exception has occurred, use %tb to see the full traceback.\n",
      "\u001b[1;31mSystemExit\u001b[0m\u001b[1;31m:\u001b[0m 2\n"
     ]
    }
   ],
   "source": [
    "% run -i powex 2 6 -q -v "
   ]
  },
  {
   "cell_type": "code",
   "execution_count": 101,
   "metadata": {},
   "outputs": [
    {
     "name": "stdout",
     "output_type": "stream",
     "text": [
      "Overwriting powex.py\n"
     ]
    }
   ],
   "source": [
    "%%writefile powex.py\n",
    "import argparse\n",
    "\n",
    "parser = argparse.ArgumentParser(description=\"calculate X to the power of Y\")\n",
    "group = parser.add_mutually_exclusive_group()\n",
    "group.add_argument(\"-v\", \"--verbose\", action=\"store_true\")\n",
    "group.add_argument(\"-q\", \"--quiet\", action=\"store_true\")\n",
    "parser.add_argument(\"x\", type=int, help=\"the base\")\n",
    "parser.add_argument(\"y\", type=int, help=\"the exponent\")\n",
    "args = parser.parse_args()\n",
    "answer = args.x**args.y\n",
    "\n",
    "if args.quiet:\n",
    "    print(answer)\n",
    "elif args.verbose:\n",
    "    print(\"{} to the power {} equals {}\".format(args.x, args.y, answer))\n",
    "else:\n",
    "    print(\"{}^{} == {}\".format(args.x, args.y, answer))"
   ]
  },
  {
   "cell_type": "code",
   "execution_count": 102,
   "metadata": {},
   "outputs": [
    {
     "name": "stdout",
     "output_type": "stream",
     "text": [
      "usage: powex.py [-h] [-v | -q] x y\n",
      "\n",
      "calculate X to the power of Y\n",
      "\n",
      "positional arguments:\n",
      "  x              the base\n",
      "  y              the exponent\n",
      "\n",
      "optional arguments:\n",
      "  -h, --help     show this help message and exit\n",
      "  -v, --verbose\n",
      "  -q, --quiet\n"
     ]
    }
   ],
   "source": [
    "%run -i powex -h"
   ]
  },
  {
   "cell_type": "code",
   "execution_count": 103,
   "metadata": {},
   "outputs": [
    {
     "name": "stdout",
     "output_type": "stream",
     "text": [
      "2 to the power 8 equals 256\n"
     ]
    }
   ],
   "source": [
    "%run -i powex 2 8 -vvv"
   ]
  },
  {
   "cell_type": "markdown",
   "metadata": {},
   "source": [
    "###  More info at: https://docs.python.org/3/library/argparse.html#module-argparse"
   ]
  }
 ],
 "metadata": {
  "kernelspec": {
   "display_name": "Python 3",
   "language": "python",
   "name": "python3"
  },
  "language_info": {
   "codemirror_mode": {
    "name": "ipython",
    "version": 3
   },
   "file_extension": ".py",
   "mimetype": "text/x-python",
   "name": "python",
   "nbconvert_exporter": "python",
   "pygments_lexer": "ipython3",
   "version": "3.6.4"
  }
 },
 "nbformat": 4,
 "nbformat_minor": 2
}
