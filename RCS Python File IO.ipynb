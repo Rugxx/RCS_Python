{
 "cells": [
  {
   "cell_type": "markdown",
   "metadata": {},
   "source": [
    "##  File I/O (Input / Output)"
   ]
  },
  {
   "cell_type": "markdown",
   "metadata": {},
   "source": [
    "## More on String Formatting"
   ]
  },
  {
   "cell_type": "markdown",
   "metadata": {},
   "source": [
    "## How do you convert values to strings? \n",
    "\n",
    "### In Python: pass it to the repr() or str() functions.\n",
    "\n",
    "The str() function is meant to return representations of values which are fairly human-readable, while repr() is meant to generate representations which can be read by the interpreter (or will force a SyntaxError if there is no equivalent syntax). For objects which don’t have a particular representation for human consumption, str() will return the same value as repr(). "
   ]
  },
  {
   "cell_type": "code",
   "execution_count": 9,
   "metadata": {},
   "outputs": [
    {
     "name": "stdout",
     "output_type": "stream",
     "text": [
      "55\n",
      "54\n"
     ]
    },
    {
     "data": {
      "text/plain": [
       "True"
      ]
     },
     "execution_count": 9,
     "metadata": {},
     "output_type": "execute_result"
    }
   ],
   "source": [
    "print(repr(54))\n",
    "print(str(54))\n",
    "str(54)==repr(54)"
   ]
  },
  {
   "cell_type": "code",
   "execution_count": 13,
   "metadata": {},
   "outputs": [
    {
     "name": "stdout",
     "output_type": "stream",
     "text": [
      "Hello\n",
      "\n",
      "'Hello\\n'\n"
     ]
    },
    {
     "data": {
      "text/plain": [
       "False"
      ]
     },
     "execution_count": 13,
     "metadata": {},
     "output_type": "execute_result"
    }
   ],
   "source": [
    "hi = \"Hello\\n\"\n",
    "hir = repr(hi)\n",
    "print(hi)\n",
    "print(hir)\n",
    "hir==hi"
   ]
  },
  {
   "cell_type": "markdown",
   "metadata": {},
   "source": [
    "### The goal of __repr__ is to be unambiguous: \n",
    "### The goal of __str__ is to be readable\n",
    "\n",
    "## In other words: __repr__ is for developers, __str__ is for customers (end users)"
   ]
  },
  {
   "cell_type": "code",
   "execution_count": 4,
   "metadata": {},
   "outputs": [
    {
     "name": "stdout",
     "output_type": "stream",
     "text": [
      " 1   1    1\n",
      " 2   4    8\n",
      " 3   9   27\n",
      " 4  16   64\n",
      " 5  25  125\n",
      " 6  36  216\n",
      " 7  49  343\n",
      " 8  64  512\n",
      " 9  81  729\n",
      "10 100 1000\n",
      "11 121 1331\n"
     ]
    }
   ],
   "source": [
    "for x in range(1,12):\n",
    "    print(f'{x:2d} {x*x:3d} {x**3:4d}')"
   ]
  },
  {
   "cell_type": "code",
   "execution_count": 2,
   "metadata": {},
   "outputs": [
    {
     "data": {
      "text/plain": [
       "'-003.14'"
      ]
     },
     "execution_count": 2,
     "metadata": {},
     "output_type": "execute_result"
    }
   ],
   "source": [
    "'-3.14'.zfill(7) # pads numeric string on the left with zeros"
   ]
  },
  {
   "cell_type": "markdown",
   "metadata": {},
   "source": [
    "## Jupyter only writing to text file\n",
    "* %%writefile filename.ext\n",
    "\n",
    "Writes in the working directory (first run pwd) "
   ]
  },
  {
   "cell_type": "code",
   "execution_count": 15,
   "metadata": {},
   "outputs": [
    {
     "name": "stdout",
     "output_type": "stream",
     "text": [
      "Writing mytext.txt\n"
     ]
    }
   ],
   "source": [
    "%%writefile mytext.txt\n",
    "Oh my text first line\n",
    "Super easy second line\n",
    "OH and third line is"
   ]
  },
  {
   "cell_type": "code",
   "execution_count": 19,
   "metadata": {},
   "outputs": [
    {
     "data": {
      "text/plain": [
       "'Oh my text first line\\nSuper easy second line\\nOH and third line is'"
      ]
     },
     "execution_count": 19,
     "metadata": {},
     "output_type": "execute_result"
    }
   ],
   "source": [
    "fin = open('mytext.txt')\n",
    "fin.read() # usually not that useful"
   ]
  },
  {
   "cell_type": "code",
   "execution_count": 20,
   "metadata": {},
   "outputs": [
    {
     "data": {
      "text/plain": [
       "''"
      ]
     },
     "execution_count": 20,
     "metadata": {},
     "output_type": "execute_result"
    }
   ],
   "source": [
    "fin.read() # what will happen ?"
   ]
  },
  {
   "cell_type": "code",
   "execution_count": 21,
   "metadata": {},
   "outputs": [
    {
     "data": {
      "text/plain": [
       "'Oh my text first line\\nSuper easy second line\\nOH and third line is'"
      ]
     },
     "execution_count": 21,
     "metadata": {},
     "output_type": "execute_result"
    }
   ],
   "source": [
    "fin.seek(0)\n",
    "fin.read()"
   ]
  },
  {
   "cell_type": "code",
   "execution_count": 23,
   "metadata": {},
   "outputs": [
    {
     "data": {
      "text/plain": [
       "['Oh my text first line\\n', 'Super easy second line\\n', 'OH and third line is']"
      ]
     },
     "execution_count": 23,
     "metadata": {},
     "output_type": "execute_result"
    }
   ],
   "source": [
    "fin.seek(0)\n",
    "mylines=fin.readlines()\n",
    "mylines"
   ]
  },
  {
   "cell_type": "code",
   "execution_count": 24,
   "metadata": {},
   "outputs": [
    {
     "name": "stdout",
     "output_type": "stream",
     "text": [
      "Oh my text first line\n",
      "\n",
      "Super easy second line\n",
      "\n",
      "OH and third line is\n"
     ]
    }
   ],
   "source": [
    "fin.seek(0)\n",
    "for line in fin:\n",
    "    print(line)"
   ]
  },
  {
   "cell_type": "code",
   "execution_count": 25,
   "metadata": {},
   "outputs": [
    {
     "name": "stdout",
     "output_type": "stream",
     "text": [
      "Oh my text first line\n",
      "\n",
      "Super easy second line\n",
      "\n",
      "OH and third line is\n"
     ]
    }
   ],
   "source": [
    "for line  in mylines:\n",
    "        print(line)"
   ]
  },
  {
   "cell_type": "code",
   "execution_count": 26,
   "metadata": {},
   "outputs": [],
   "source": [
    "#close the file if you .open() it!!\n",
    "fin.close()"
   ]
  },
  {
   "cell_type": "code",
   "execution_count": 28,
   "metadata": {},
   "outputs": [
    {
     "name": "stdout",
     "output_type": "stream",
     "text": [
      "Oh my text first line\n",
      "\n",
      "Super easy second line\n",
      "\n",
      "OH and third line is\n"
     ]
    }
   ],
   "source": [
    "with open('mytext.txt') as fin:\n",
    "    for line in fin:\n",
    "        print(line)\n",
    "#closes automatically!!! "
   ]
  },
  {
   "cell_type": "markdown",
   "metadata": {},
   "source": [
    "## For MacOS and Linux\n",
    "* use pwd to see where you are\n",
    "### myfile = open(\"/Users/MyUserName/SomeFolder/MaybeAnotherFolder/myfile.txt\")"
   ]
  },
  {
   "cell_type": "markdown",
   "metadata": {},
   "source": [
    "## For Windows\n",
    "* use pwd to see where you are\n",
    "### myfile = open(\"C:\\\\Users\\\\MyUserName\\\\SomeFolder\\\\MaybeAnotherFolder\\\\myfile.txt\")"
   ]
  },
  {
   "cell_type": "code",
   "execution_count": null,
   "metadata": {},
   "outputs": [],
   "source": []
  },
  {
   "cell_type": "code",
   "execution_count": 33,
   "metadata": {},
   "outputs": [
    {
     "name": "stdout",
     "output_type": "stream",
     "text": [
      "Oh my text first line\n",
      "Super easy second line\n",
      "OH and third line is\n"
     ]
    }
   ],
   "source": [
    "\n",
    "with open('mytext.txt', mode='r') as fin:\n",
    "    cont = fin.read()\n",
    "print(cont)\n",
    "?open"
   ]
  },
  {
   "cell_type": "code",
   "execution_count": 36,
   "metadata": {},
   "outputs": [],
   "source": [
    "with open('numbers.txt', mode='w') as fout:\n",
    "    for n in range(1,10):\n",
    "        fout.write(f'The number is {n}\\n')\n",
    "        #fout.write(f'The number is {n}') # diferences between \\n and no \\n"
   ]
  },
  {
   "cell_type": "code",
   "execution_count": 37,
   "metadata": {},
   "outputs": [
    {
     "name": "stdout",
     "output_type": "stream",
     "text": [
      "The number is 1The number is 2The number is 3The number is 4The number is 5The number is 6The number is 7The number is 8The number is 9\n"
     ]
    }
   ],
   "source": [
    "with open('numbers.txt', mode='r') as fin:\n",
    "    for line in fin:\n",
    "        print(line)"
   ]
  },
  {
   "cell_type": "code",
   "execution_count": 39,
   "metadata": {},
   "outputs": [],
   "source": [
    "# Generally Preferably to read and write separately - VS"
   ]
  },
  {
   "cell_type": "markdown",
   "metadata": {},
   "source": [
    "### Modes:\n",
    "  *  mode='r' - Read Only\n",
    "  * 'w' - Write Only (and will overwrite existing files!!!)\n",
    "  * 'a' - Apend Only (stream is at the end of file!)\n",
    "  * 'r+' - Read and Write\n",
    "  * 'w+' - Write and Read with Overwriting existing/make new files\n",
    "  \n",
    "  From C (fopen)\n",
    "   * ``r+''  Open for reading and writing.  The stream is positioned at the\n",
    "         beginning of the file.\n",
    "         \n",
    "    *   ``w+''  Open for reading and writing.  The file is created if it does not\n",
    "         exist, otherwise it is truncated(**destroyed!**).  The stream is positioned at\n",
    "         the beginning of the file.    "
   ]
  },
  {
   "cell_type": "code",
   "execution_count": null,
   "metadata": {},
   "outputs": [],
   "source": []
  }
 ],
 "metadata": {
  "kernelspec": {
   "display_name": "Python 3",
   "language": "python",
   "name": "python3"
  },
  "language_info": {
   "codemirror_mode": {
    "name": "ipython",
    "version": 3
   },
   "file_extension": ".py",
   "mimetype": "text/x-python",
   "name": "python",
   "nbconvert_exporter": "python",
   "pygments_lexer": "ipython3",
   "version": "3.6.4"
  }
 },
 "nbformat": 4,
 "nbformat_minor": 2
}
