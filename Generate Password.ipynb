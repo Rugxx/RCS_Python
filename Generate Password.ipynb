{
 "cells": [
  {
   "cell_type": "code",
   "execution_count": 24,
   "metadata": {},
   "outputs": [
    {
     "name": "stdout",
     "output_type": "stream",
     "text": [
      "Overwriting gp.py\n"
     ]
    }
   ],
   "source": [
    "%%writefile gp.py\n",
    "# -*- coding: utf-8 -*-\n",
    "#!/usr/bin/env python\n",
    "#from os import urandom\n",
    "import os\n",
    "import argparse\n",
    "charsets={\n",
    "\"a\":\"abcdefghijklmnopqrstuvwxyz\",\\\n",
    "\"A\":\"ABCDEFGHIJKLMNOPQRSTUVWXYZ\",\\\n",
    "\"0\":\"0123456789\",\\\n",
    "\"$\":\"^!\\\"$%&/()=?{[]}+*~#'-_.:,;<>|\\\\ \"\\\n",
    "}\n",
    "\n",
    "def GeneratePassword(length=9,charset=\"aA0$\"):\n",
    "    password=\"\"\n",
    "    lc=\"\"\n",
    "    charset_string=\"\"\n",
    "    for c in charset:\n",
    "        print(f'Char:{c}')\n",
    "        if c in charsets.keys():\n",
    "            charset_string+=charsets[c]\n",
    "    print(charset_string)\n",
    "    while len(password)<length:\n",
    "        c=os.urandom(1).decode(\"utf-8\", \"replace\")\n",
    "        if str(c) in charset_string and c!=lc:\n",
    "            password+=c\n",
    "            lc=c\n",
    "    return password\n",
    "\n",
    "def main(plen, pcount, charset):\n",
    "    for _ in range(pcount):\n",
    "        print(GeneratePassword(plen, charset))\n",
    "    \n",
    "if __name__ == \"__main__\":\n",
    "    parser = argparse.ArgumentParser(description='Generate Password')\n",
    "    parser.add_argument('integers', metavar='N', type=int, help='length of password')\n",
    "    parser.add_argument('pcount', metavar='P', type=int, help='how many paswords to generate')\n",
    "    parser.add_argument('charset', help='determine characters to be used from \"aA0$\"')\n",
    "    args = parser.parse_args()\n",
    "    print(args)\n",
    "    main(args.integers, args.pcount, args.charset)\n",
    "    \n",
    "    "
   ]
  },
  {
   "cell_type": "code",
   "execution_count": 1,
   "metadata": {},
   "outputs": [],
   "source": [
    "import os"
   ]
  },
  {
   "cell_type": "code",
   "execution_count": 8,
   "metadata": {},
   "outputs": [
    {
     "data": {
      "text/plain": [
       "\"b'\\\\x16'\""
      ]
     },
     "execution_count": 8,
     "metadata": {},
     "output_type": "execute_result"
    }
   ],
   "source": [
    "str(os.urandom(1))"
   ]
  },
  {
   "cell_type": "code",
   "execution_count": 12,
   "metadata": {},
   "outputs": [
    {
     "data": {
      "text/plain": [
       "'E'"
      ]
     },
     "execution_count": 12,
     "metadata": {},
     "output_type": "execute_result"
    }
   ],
   "source": [
    "os.urandom(1).decode(\"utf-8\", \"replace\")"
   ]
  },
  {
   "cell_type": "code",
   "execution_count": 4,
   "metadata": {},
   "outputs": [
    {
     "ename": "ValueError",
     "evalue": "invalid literal for int() with base 16: b'*'",
     "output_type": "error",
     "traceback": [
      "\u001b[1;31m---------------------------------------------------------------------------\u001b[0m",
      "\u001b[1;31mValueError\u001b[0m                                Traceback (most recent call last)",
      "\u001b[1;32m<ipython-input-4-1aa7f7f1bff6>\u001b[0m in \u001b[0;36m<module>\u001b[1;34m()\u001b[0m\n\u001b[1;32m----> 1\u001b[1;33m \u001b[0mint\u001b[0m\u001b[1;33m(\u001b[0m\u001b[0mos\u001b[0m\u001b[1;33m.\u001b[0m\u001b[0murandom\u001b[0m\u001b[1;33m(\u001b[0m\u001b[1;36m1\u001b[0m\u001b[1;33m)\u001b[0m\u001b[1;33m,\u001b[0m \u001b[1;36m16\u001b[0m\u001b[1;33m)\u001b[0m\u001b[1;33m\u001b[0m\u001b[0m\n\u001b[0m",
      "\u001b[1;31mValueError\u001b[0m: invalid literal for int() with base 16: b'*'"
     ]
    }
   ],
   "source": [
    "int(os.urandom(1), 16)"
   ]
  }
 ],
 "metadata": {
  "kernelspec": {
   "display_name": "Python 3",
   "language": "python",
   "name": "python3"
  },
  "language_info": {
   "codemirror_mode": {
    "name": "ipython",
    "version": 3
   },
   "file_extension": ".py",
   "mimetype": "text/x-python",
   "name": "python",
   "nbconvert_exporter": "python",
   "pygments_lexer": "ipython3",
   "version": "3.6.4"
  }
 },
 "nbformat": 4,
 "nbformat_minor": 2
}
